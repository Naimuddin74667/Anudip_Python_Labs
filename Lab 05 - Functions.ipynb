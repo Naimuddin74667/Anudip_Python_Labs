{
 "cells": [
  {
   "cell_type": "markdown",
   "id": "22bef0fa-3536-4b4e-a162-302fee818ddd",
   "metadata": {},
   "source": [
    "# Lab 5 - Functions"
   ]
  },
  {
   "cell_type": "markdown",
   "id": "7cf0d85f-d1fb-4d68-96ee-12804b6b377c",
   "metadata": {},
   "source": [
    "### 1. Declare a div() function with two parameters. Then call the function and pass two numbers and display their division. "
   ]
  },
  {
   "cell_type": "code",
   "execution_count": 3,
   "id": "f15dc071-b70f-440e-aae8-9cb5b6dee4e6",
   "metadata": {},
   "outputs": [
    {
     "name": "stdin",
     "output_type": "stream",
     "text": [
      "Enter Numerator : 4\n",
      "Enter Denomerator : 9\n"
     ]
    },
    {
     "name": "stdout",
     "output_type": "stream",
     "text": [
      "4 divided by 9 will be 0.4444444444444444\n"
     ]
    }
   ],
   "source": [
    "# Taking input from user\n",
    "num1 = int(input(\"Enter Numerator :\"))\n",
    "num2 = int(input('Enter Denomerator :'))\n",
    "\n",
    "# Creating Division Function with 2 parameters\n",
    "def div(param1, param2):\n",
    "    # To tackle Zero Division Error\n",
    "    if param2==0:\n",
    "        return print(\"Division Error : Denominator can't be Zero(0) !\")\n",
    "    # Division if denominator is not Zero.\n",
    "    else:\n",
    "        return print(f'{param1} divided by {param2} will be {param1/param2}')\n",
    "\n",
    "# Calling div function\n",
    "div(num1,num2)"
   ]
  },
  {
   "cell_type": "markdown",
   "id": "9bca9792-84c8-4227-8153-cd33dccefaf3",
   "metadata": {},
   "source": [
    "### 2. Declare a square() function with one parameter.Then call the function and pass one number and display the square of that number . "
   ]
  },
  {
   "cell_type": "code",
   "execution_count": 5,
   "id": "51801551-52a4-4928-aaaf-2ebd566fc041",
   "metadata": {},
   "outputs": [
    {
     "name": "stdin",
     "output_type": "stream",
     "text": [
      "Enter a number : 9\n"
     ]
    },
    {
     "name": "stdout",
     "output_type": "stream",
     "text": [
      "The square of 9 is : 81.\n"
     ]
    }
   ],
   "source": [
    "# Taking input from user\n",
    "num = int(input(\"Enter a number :\"))\n",
    "\n",
    "# Creating Square Function\n",
    "def square(param):\n",
    "    return print(f'The square of {param} is : {param*param}.')\n",
    "\n",
    "# Calling function\n",
    "square(num)"
   ]
  },
  {
   "cell_type": "markdown",
   "id": "ed4fd4c7-a55f-47fa-afda-9ee366b8e87b",
   "metadata": {},
   "source": [
    "## 3. Using max() and min() functions display the maximum and minimum of 5 random numbers. "
   ]
  },
  {
   "cell_type": "code",
   "execution_count": 7,
   "id": "66084078-4313-4da7-91cd-229b1425dfea",
   "metadata": {},
   "outputs": [
    {
     "name": "stdin",
     "output_type": "stream",
     "text": [
      "Enter 1th number : 3\n",
      "Enter 2th number : 6\n",
      "Enter 3th number : 1\n",
      "Enter 4th number : 8\n",
      "Enter 5th number : 45\n"
     ]
    },
    {
     "name": "stdout",
     "output_type": "stream",
     "text": [
      "Mininum value in [3, 6, 1, 8, 45] is : 1\n",
      "Maximum value in [3, 6, 1, 8, 45] is : 45\n"
     ]
    }
   ],
   "source": [
    "# Declaring empty list for random numbers\n",
    "lst = []\n",
    "\n",
    "# taking 5 input from user\n",
    "for i in range(5):\n",
    "    # Storing input\n",
    "    num = int(input(f'Enter {i+1}th number :'))\n",
    "    # Appending input to empty list\n",
    "    lst.append(num)\n",
    "\n",
    "# Printing the Min and Max of list\n",
    "print(f'Mininum value in {lst} is : {min(lst)}')\n",
    "print(f'Maximum value in {lst} is : {max(lst)}')"
   ]
  },
  {
   "cell_type": "markdown",
   "id": "4eb94379-28fc-4a4d-b0d4-eef30a900cf6",
   "metadata": {},
   "source": [
    "## 4. Accept a name from the user and display that in lower case using lower() function."
   ]
  },
  {
   "cell_type": "code",
   "execution_count": 9,
   "id": "163d46df-2ed0-42c9-8b6e-129659dc44c6",
   "metadata": {},
   "outputs": [
    {
     "name": "stdin",
     "output_type": "stream",
     "text": [
      "Enter your name : Mohammad Naimuddin Shaikh\n"
     ]
    },
    {
     "name": "stdout",
     "output_type": "stream",
     "text": [
      "Your name in Lowwer Case will be : mohammad naimuddin shaikh\n"
     ]
    }
   ],
   "source": [
    "# Taking input from user\n",
    "name = str(input('Enter your name :'))\n",
    "print(f'Your name in Lowwer Case will be : {name.lower()}')"
   ]
  },
  {
   "cell_type": "code",
   "execution_count": null,
   "id": "0e658366-7e72-4efe-b0c1-149e76ece64c",
   "metadata": {},
   "outputs": [],
   "source": []
  },
  {
   "cell_type": "code",
   "execution_count": null,
   "id": "2e999bb5-0604-49dd-ba6a-d3cd3d54fbc8",
   "metadata": {},
   "outputs": [],
   "source": []
  }
 ],
 "metadata": {
  "kernelspec": {
   "display_name": "Python 3 (ipykernel)",
   "language": "python",
   "name": "python3"
  },
  "language_info": {
   "codemirror_mode": {
    "name": "ipython",
    "version": 3
   },
   "file_extension": ".py",
   "mimetype": "text/x-python",
   "name": "python",
   "nbconvert_exporter": "python",
   "pygments_lexer": "ipython3",
   "version": "3.12.4"
  }
 },
 "nbformat": 4,
 "nbformat_minor": 5
}
