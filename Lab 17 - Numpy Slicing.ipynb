{
 "cells": [
  {
   "cell_type": "markdown",
   "id": "518034bc-0e75-4921-be5c-7ad15b2d71cb",
   "metadata": {},
   "source": [
    "# Lab 17 - Numpy Slicing"
   ]
  },
  {
   "cell_type": "markdown",
   "id": "ae71be47-bea2-41dd-b699-95f9dd66fdab",
   "metadata": {},
   "source": [
    "### 1. Write a NumPy program to create an array of 10 zeros, 10 ones, and 10 fives."
   ]
  },
  {
   "cell_type": "code",
   "execution_count": 48,
   "id": "f6820cda-bd98-436d-9165-d35774fa2c82",
   "metadata": {},
   "outputs": [
    {
     "name": "stdin",
     "output_type": "stream",
     "text": [
      "Enter the list of numbers to get individual arrays : [0,1,5]\n"
     ]
    },
    {
     "name": "stdout",
     "output_type": "stream",
     "text": [
      "Array of 0's : [0 0 0 0 0 0 0 0 0 0]\n",
      "Array of 1's : [1 1 1 1 1 1 1 1 1 1]\n",
      "Array of 5's : [5 5 5 5 5 5 5 5 5 5]\n"
     ]
    }
   ],
   "source": [
    "# Importing important library\n",
    "import numpy as np\n",
    "\n",
    "# CReating function to create an Array\n",
    "def create_arr(lst):\n",
    "    # Iterating through the numbers in the lst\n",
    "    for num in lst:\n",
    "        # Printing results\n",
    "        print(f\"Array of {num}'s : {np.ones(10,int)*num}\")\n",
    "\n",
    "# Taking input from user and calling function\n",
    "create_arr(eval(input('Enter the list of numbers to get individual arrays :')))"
   ]
  },
  {
   "cell_type": "markdown",
   "id": "7995fbbb-1c97-4a40-92fc-0f38db2cdec0",
   "metadata": {},
   "source": [
    "### 2. Write a NumPy program to create a 3x3 matrix with values ranging from 2 to 10."
   ]
  },
  {
   "cell_type": "code",
   "execution_count": 5,
   "id": "40caa78e-3122-4e4b-936b-bc107bb4183b",
   "metadata": {},
   "outputs": [
    {
     "name": "stdin",
     "output_type": "stream",
     "text": [
      "Enter the starting number for array : 4\n",
      "Enter the ending number for array : 1\n"
     ]
    },
    {
     "name": "stdout",
     "output_type": "stream",
     "text": [
      "Error : Please ensure that the starting is less than ending number!\n"
     ]
    }
   ],
   "source": [
    "# Importing important library\n",
    "import numpy as np\n",
    "\n",
    "# Creating function to generate 3 by 3 matrix\n",
    "def num_arr(start,end):\n",
    "    # Check if starting is smaller than ending\n",
    "    if start<end:\n",
    "        # Creating array and returning result\n",
    "        arr = np.random.randint(start,end,9)\n",
    "        return print(f'3X3 array of numbers between {start} & {end} is : \\n{np.reshape(arr,(3,3))}')\n",
    "    # If starting if greater than ending prompt the error\n",
    "    else:\n",
    "        print('Error : Please ensure that the starting is less than ending number!')\n",
    "\n",
    "# Taking input from user and calling function\n",
    "num_arr(int(input('Enter the starting number for array :')),int(input('Enter the ending number for array :')))"
   ]
  },
  {
   "cell_type": "markdown",
   "id": "57528c92-f5e3-432b-abe7-7118602068af",
   "metadata": {},
   "source": [
    "### 3. Write a NumPy program to create an array with values ranging from 12 to 38."
   ]
  },
  {
   "cell_type": "code",
   "execution_count": 3,
   "id": "be99a9ac-4905-46d4-b315-47a7e953a34b",
   "metadata": {},
   "outputs": [
    {
     "name": "stdin",
     "output_type": "stream",
     "text": [
      "Enter the starting number for array : 12\n",
      "Enter the ending number for array : 38\n"
     ]
    },
    {
     "name": "stdout",
     "output_type": "stream",
     "text": [
      "3X3 array of numbers between 12 & 38 is : \n",
      "[12 13 14 15 16 17 18 19 20 21 22 23 24 25 26 27 28 29 30 31 32 33 34 35\n",
      " 36 37 38]\n"
     ]
    }
   ],
   "source": [
    "# Importing important library\n",
    "import numpy as np\n",
    "\n",
    "# Creating function to generate an array\n",
    "def num_arr(start,end):\n",
    "    # Check if starting is smaller than ending\n",
    "    if start<end:\n",
    "        # Creating array and returning result\n",
    "        arr = np.arange(start,end+1)\n",
    "        return print(f'Array of numbers between {start} & {end} is : \\n{arr}')\n",
    "    # If starting if greater than ending prompt the error\n",
    "    else:\n",
    "        print('Error : Please ensure that the starting is less than ending number!')\n",
    "\n",
    "# Taking input from user and calling function\n",
    "num_arr(int(input('Enter the starting number for array :')),int(input('Enter the ending number for array :')))"
   ]
  },
  {
   "cell_type": "markdown",
   "id": "46e1f867-5fb0-4fca-acbd-7c0a8535715f",
   "metadata": {},
   "source": [
    "### 4. Write a NumPy program to convert a list and tuple into arrays. \n",
    "- Input: my_list = [1, 2, 3, 4, 5, 6, 7, 8] \n",
    "- Input: my_tuple = ([8, 4, 6], [1, 2, 3])"
   ]
  },
  {
   "cell_type": "code",
   "execution_count": 31,
   "id": "a0053d6b-447a-42d9-9e49-3011f411553b",
   "metadata": {},
   "outputs": [
    {
     "name": "stdin",
     "output_type": "stream",
     "text": [
      "Enter a list/tuple/dictonary to convert into Array : [1, 2, 3, 4, 5, 6, 7, 8]\n"
     ]
    },
    {
     "name": "stdout",
     "output_type": "stream",
     "text": [
      "Array of given list is : [1 2 3 4 5 6 7 8]\n"
     ]
    }
   ],
   "source": [
    "# Importing important library\n",
    "import numpy as np\n",
    "\n",
    "# Creating a funtion to convert into array\n",
    "def into_array(lst_tup):\n",
    "    # Creating array\n",
    "    arr = np.array(lst_tup)\n",
    "    # Checking the type of input and returning the result accordingly\n",
    "    if type(lst_tup)== list:\n",
    "        return print(f'Array of given list is : {arr}')\n",
    "    elif type(lst_tup)== tuple:\n",
    "        return print(f'Array of given tuple is : {arr}')\n",
    "    else:\n",
    "        return print(f'Array of given dictonary is : {arr}')\n",
    "\n",
    "# Taking input from user and calling function\n",
    "# For List input\n",
    "into_array(eval(input('Enter a list/tuple/dictonary to convert into Array :')))\n",
    "# For Tuple input\n",
    "into_array(eval(input('Enter a list/tuple/dictonary to convert into Array :')))\n",
    "# For Dictonary input\n",
    "into_array(eval(input('Enter a list/tuple/dictonary to convert into Array :')))"
   ]
  },
  {
   "cell_type": "code",
   "execution_count": null,
   "id": "c7a798f2-a549-47eb-83d2-6cd619fbab67",
   "metadata": {},
   "outputs": [],
   "source": []
  },
  {
   "cell_type": "code",
   "execution_count": null,
   "id": "7423037d-0499-47be-b273-87ca68ef55d4",
   "metadata": {},
   "outputs": [],
   "source": []
  }
 ],
 "metadata": {
  "kernelspec": {
   "display_name": "Python 3 (ipykernel)",
   "language": "python",
   "name": "python3"
  },
  "language_info": {
   "codemirror_mode": {
    "name": "ipython",
    "version": 3
   },
   "file_extension": ".py",
   "mimetype": "text/x-python",
   "name": "python",
   "nbconvert_exporter": "python",
   "pygments_lexer": "ipython3",
   "version": "3.12.4"
  }
 },
 "nbformat": 4,
 "nbformat_minor": 5
}
