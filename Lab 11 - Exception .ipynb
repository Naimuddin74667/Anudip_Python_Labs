{
 "cells": [
  {
   "cell_type": "markdown",
   "id": "ff422cfa-2571-42e3-b1cf-f63794ccdc72",
   "metadata": {},
   "source": [
    "# Lab 11 - Exception "
   ]
  },
  {
   "cell_type": "markdown",
   "id": "9115cd49-e2f7-4862-b327-fec82a61f252",
   "metadata": {},
   "source": [
    "### 1. Write a Python program to handle a ZeroDivisionError exception when dividing a number by zero. "
   ]
  },
  {
   "cell_type": "code",
   "execution_count": 18,
   "id": "ed5c39ca-98ed-469e-a19a-355fd61e3300",
   "metadata": {},
   "outputs": [
    {
     "name": "stdin",
     "output_type": "stream",
     "text": [
      "Enter the Divident : 4\n",
      "Enter the Divisor : 0\n"
     ]
    },
    {
     "name": "stdout",
     "output_type": "stream",
     "text": [
      "Error : Cant divide number by Zero\n"
     ]
    }
   ],
   "source": [
    "# Creating a function for division\n",
    "def divide(num1,num2):\n",
    "    # Try Block where error can occur\n",
    "    try:\n",
    "        result = num1/num2\n",
    "    # Catching the error and display the prompt message\n",
    "    except ZeroDivisionError:\n",
    "        print('Error : Cant divide number by Zero!')\n",
    "    # If there will be no error program execute\n",
    "    else:\n",
    "        return print(f'{num1}/{num2} = {result}')\n",
    "\n",
    "# Taking input from user and calling function\n",
    "divide(int(input('Enter the Divident :')),int(input('Enter the Divisor :')))"
   ]
  },
  {
   "cell_type": "markdown",
   "id": "1ef9df7d-14b1-46cd-b48f-9df09122bbaa",
   "metadata": {},
   "source": [
    "### 2. Write a Python program that prompts the user to input an integer and raises a ValueError exception if the input is not a valid integer. "
   ]
  },
  {
   "cell_type": "code",
   "execution_count": 26,
   "id": "b86e5d9e-4472-4e68-812f-38504658223b",
   "metadata": {},
   "outputs": [
    {
     "name": "stdin",
     "output_type": "stream",
     "text": [
      "Enter an integer : etr\n"
     ]
    },
    {
     "name": "stdout",
     "output_type": "stream",
     "text": [
      "Error : Please Enter a valid Integer!\n"
     ]
    }
   ],
   "source": [
    "# Try Block where error can occur\n",
    "try:\n",
    "    num = int(input('Enter an integer :'))\n",
    "# Catching the error and display the prompt message\n",
    "except ValueError:\n",
    "    print('Error : Please Enter a valid Integer!')\n",
    "# If there will be no error program execute\n",
    "else:\n",
    "    print(f'Great! You have entered {num}')"
   ]
  },
  {
   "cell_type": "markdown",
   "id": "7e34a4fc-8ff2-4a1f-ad5f-bf471aa96d4a",
   "metadata": {},
   "source": [
    "### 3. Write a Python program that opens a file and handles a FileNotFoundError exception if the file does not exist. "
   ]
  },
  {
   "cell_type": "code",
   "execution_count": 34,
   "id": "94240412-8420-42ab-a996-c8c903a9404b",
   "metadata": {},
   "outputs": [
    {
     "name": "stdin",
     "output_type": "stream",
     "text": [
      "Enter file name : ABCD.txt\n"
     ]
    },
    {
     "name": "stdout",
     "output_type": "stream",
     "text": [
      "Error : Sorry file \"ABCD.txt\" is not found !\n"
     ]
    }
   ],
   "source": [
    "# Creating a function\n",
    "def open_file(file_name):\n",
    "    # Try Block where error can occur\n",
    "    try:\n",
    "        with open(file_name) as file:\n",
    "            content = file.read()\n",
    "    # Catching the error and display the prompt message\n",
    "    except FileNotFoundError:\n",
    "        print(f'Error : Sorry file \"{file_name}\" is not found !')\n",
    "    # If there will be no error program execute\n",
    "    else:\n",
    "        return content\n",
    "\n",
    "# Taking input from user and calling function\n",
    "open_file(input('Enter file name :'))"
   ]
  },
  {
   "cell_type": "markdown",
   "id": "59840ffb-5927-4f6b-9630-fee35fad796d",
   "metadata": {},
   "source": [
    "### 4. Write a Python program that prompts the user to input two numbers and raises a TypeError exception if the inputs are DANLC ANP-C9180"
   ]
  },
  {
   "cell_type": "code",
   "execution_count": 46,
   "id": "6021e038-c0ca-45fa-a323-8300c3634494",
   "metadata": {},
   "outputs": [
    {
     "name": "stdin",
     "output_type": "stream",
     "text": [
      "Enter 1st Number : DANLC\n",
      "Enter 2nd Number : ANP-C9180\n"
     ]
    },
    {
     "name": "stdout",
     "output_type": "stream",
     "text": [
      "Error : Invalid type, Please enter number.\n"
     ]
    }
   ],
   "source": [
    "# Try Block where error can occur\n",
    "try:\n",
    "    num1 = input('Enter 1st Number :')\n",
    "    num2 = input('Enter 2nd Number :')\n",
    "\n",
    "    # Conditions to raise the error\n",
    "    if not num1.isdigit():\n",
    "        raise TypeError('Invalid type, Please enter number.')\n",
    "# Catching the error and display the prompt message\n",
    "except TypeError as e:\n",
    "    print(f'Error : {e}')\n",
    "# If there will be no error program execute\n",
    "else:\n",
    "    print(f'Great! Your numbers are {num1} & {num2}')"
   ]
  },
  {
   "cell_type": "code",
   "execution_count": null,
   "id": "5d481bc6-994c-4284-8861-5a7609080463",
   "metadata": {},
   "outputs": [],
   "source": []
  }
 ],
 "metadata": {
  "kernelspec": {
   "display_name": "Python 3 (ipykernel)",
   "language": "python",
   "name": "python3"
  },
  "language_info": {
   "codemirror_mode": {
    "name": "ipython",
    "version": 3
   },
   "file_extension": ".py",
   "mimetype": "text/x-python",
   "name": "python",
   "nbconvert_exporter": "python",
   "pygments_lexer": "ipython3",
   "version": "3.12.4"
  }
 },
 "nbformat": 4,
 "nbformat_minor": 5
}
