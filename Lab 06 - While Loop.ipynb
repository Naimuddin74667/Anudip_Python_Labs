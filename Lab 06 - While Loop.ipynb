{
 "cells": [
  {
   "cell_type": "markdown",
   "id": "9c8a7b66-d5e1-4e3f-90e9-01ff63904236",
   "metadata": {},
   "source": [
    "# Lab 6 - While Loop"
   ]
  },
  {
   "cell_type": "markdown",
   "id": "393b6e1d-cf10-41aa-9dd9-50d5f4a80554",
   "metadata": {},
   "source": [
    "## 1. Write a python program to reverse a number using a while loop."
   ]
  },
  {
   "cell_type": "code",
   "execution_count": 3,
   "id": "88bb2b79-5900-40df-bca3-73f05dcc2900",
   "metadata": {},
   "outputs": [
    {
     "name": "stdin",
     "output_type": "stream",
     "text": [
      "Enter the elements (space separated) : 1 3 5 7 9 0 2 4 6 8\n"
     ]
    },
    {
     "name": "stdout",
     "output_type": "stream",
     "text": [
      "Reverse of your given List : [8, 6, 4, 2, 0, 9, 7, 5, 3, 1]\n"
     ]
    }
   ],
   "source": [
    "# Taking input from user\n",
    "user_list = input('Enter the elements (space separated) :')\n",
    "# Getting individual elements\n",
    "list_element = user_list.split()\n",
    "# Converting into intiger list\n",
    "lst = list(map(int, list_element))\n",
    "\n",
    "## Program logic\n",
    "# Initializing empty list\n",
    "reverse_list = []\n",
    "# Initializing Itrator\n",
    "i=len(lst)-1\n",
    "# While loop will run untill iterator is zero\n",
    "while i>=0:\n",
    "    # Appending the element in empty list\n",
    "    reverse_list.append(lst[i])\n",
    "    # Decreasing iterator by 1\n",
    "    i-=1\n",
    "# Printing the result output\n",
    "print(f'Reverse of your given List : {reverse_list}')"
   ]
  },
  {
   "cell_type": "markdown",
   "id": "6844db1f-b7dc-4427-8bce-d5792cf37b8e",
   "metadata": {},
   "source": [
    "## 2. Write a python program to check whether a number is palindrome or not?"
   ]
  },
  {
   "cell_type": "code",
   "execution_count": 5,
   "id": "a1e61545-2a60-4b11-9448-ba31ecfd726f",
   "metadata": {},
   "outputs": [
    {
     "name": "stdin",
     "output_type": "stream",
     "text": [
      "Enter the word : Redivider\n"
     ]
    },
    {
     "name": "stdout",
     "output_type": "stream",
     "text": [
      "\"redivider\" is Palindrome.\n"
     ]
    }
   ],
   "source": [
    "# Taking input from user and converting into lower case\n",
    "word = input('Enter the word :').lower()\n",
    "\n",
    "# Defining starting and ending for the Loop\n",
    "start = 0\n",
    "end = len(word)-1\n",
    "# Declaring ispalindrome bydefault True\n",
    "ispalindrome = True\n",
    "\n",
    "## Program Logic\n",
    "while start<end:\n",
    "    # If staring of word is not eqauls to ending of word\n",
    "    if word[start] != word[end]:\n",
    "        # Change the ispalindrome to False and Break the Execution\n",
    "        ispalindrome = False\n",
    "        break\n",
    "    # Increasing the starting and decreasing the ending variable\n",
    "    start+=1\n",
    "    end-=1\n",
    "\n",
    "# Checking after the execution ispalindrome is True or False\n",
    "if ispalindrome:\n",
    "    print(f'\"{word}\" is Palindrome.')\n",
    "else:\n",
    "    print(f'\"{word}\" is not a Palindrome')"
   ]
  },
  {
   "cell_type": "markdown",
   "id": "a6035d87-dba7-4dbb-9fb3-c99e80b7a59c",
   "metadata": {},
   "source": [
    "## 3. Write a python program finding the factorial of a given number using a while loop. "
   ]
  },
  {
   "cell_type": "code",
   "execution_count": 7,
   "id": "189bc4b7-422a-4b67-a4db-352bbfbd4f63",
   "metadata": {},
   "outputs": [
    {
     "name": "stdin",
     "output_type": "stream",
     "text": [
      "Enter a number : 5\n"
     ]
    },
    {
     "name": "stdout",
     "output_type": "stream",
     "text": [
      "Factorial of 5 is 120.\n"
     ]
    }
   ],
   "source": [
    "# Taking input from user\n",
    "num = int(input('Enter a number :'))\n",
    "\n",
    "## Program Logic\n",
    "# Declaring factorial as 1 \n",
    "factorial = 1\n",
    "num_iterator = num\n",
    "# If num is greater than zero then only program will execute\n",
    "while num_iterator>0:\n",
    "    # Multiply the number with all the numbers below it\n",
    "    factorial = (factorial*num_iterator)\n",
    "    # Decreasing the num iterator\n",
    "    num_iterator-=1\n",
    "# Printing the result output\n",
    "print(f'Factorial of {num} is {factorial}.')\n",
    "    "
   ]
  },
  {
   "cell_type": "markdown",
   "id": "9a4428f2-6db0-4280-9733-b8aeaf5ee849",
   "metadata": {},
   "source": [
    "## 4. Accept numbers using input() function until the user enters 0. If user input 0 then break the while loop and display the sum of all the numbers."
   ]
  },
  {
   "cell_type": "code",
   "execution_count": 9,
   "id": "a125018c-ca7c-43bb-a7bb-d38a6be03ba5",
   "metadata": {},
   "outputs": [
    {
     "name": "stdin",
     "output_type": "stream",
     "text": [
      "Enter a number : 2\n",
      "Enter a number : 4\n",
      "Enter a number : 6\n",
      "Enter a number : 8\n",
      "Enter a number : 0\n"
     ]
    },
    {
     "name": "stdout",
     "output_type": "stream",
     "text": [
      "Sum of all the numbers is 20.\n"
     ]
    }
   ],
   "source": [
    "## Program Logic\n",
    "# Initializing sum as 0\n",
    "sum = 0\n",
    "# Loop will start without condition\n",
    "while True:\n",
    "    # Taking input from user untill program breaks\n",
    "    num = int(input('Enter a number :'))\n",
    "    # Checking the number if its Zero break the program\n",
    "    if num==0:\n",
    "        break\n",
    "    # Otherwise, adding the number into sum variable\n",
    "    else:\n",
    "        sum+=num\n",
    "# Printing the result output\n",
    "print(f'Sum of all the numbers is {sum}.')    "
   ]
  },
  {
   "cell_type": "code",
   "execution_count": null,
   "id": "ad14f370-1fee-4416-aa4e-c918200d471c",
   "metadata": {},
   "outputs": [],
   "source": []
  }
 ],
 "metadata": {
  "kernelspec": {
   "display_name": "Python 3 (ipykernel)",
   "language": "python",
   "name": "python3"
  },
  "language_info": {
   "codemirror_mode": {
    "name": "ipython",
    "version": 3
   },
   "file_extension": ".py",
   "mimetype": "text/x-python",
   "name": "python",
   "nbconvert_exporter": "python",
   "pygments_lexer": "ipython3",
   "version": "3.12.4"
  }
 },
 "nbformat": 4,
 "nbformat_minor": 5
}
