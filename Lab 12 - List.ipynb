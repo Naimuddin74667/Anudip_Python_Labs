{
 "cells": [
  {
   "cell_type": "markdown",
   "id": "5f0ae2e6-18c9-4d7c-9b8b-b67852616f9a",
   "metadata": {},
   "source": [
    "# Lab 12 - List"
   ]
  },
  {
   "cell_type": "markdown",
   "id": "14d4d3c5-5e7f-402d-891a-43366d79fc52",
   "metadata": {},
   "source": [
    "### 1. Write a Python program to sum all the items in a list."
   ]
  },
  {
   "cell_type": "code",
   "execution_count": 67,
   "id": "7c6ca988-2d1a-46f5-88e4-b98ec3f59e02",
   "metadata": {},
   "outputs": [
    {
     "name": "stdin",
     "output_type": "stream",
     "text": [
      "Enter the numeric list coma separated (,) : 7,3,1,9,8,2\n"
     ]
    },
    {
     "name": "stdout",
     "output_type": "stream",
     "text": [
      "Sum of all the numbers is : 30.0\n"
     ]
    }
   ],
   "source": [
    "# Creating a function\n",
    "def items_sum(lst):\n",
    "    # Initializing sum variable\n",
    "    sum = 0\n",
    "    # Itrating through list\n",
    "    for num in lst:\n",
    "        sum += num\n",
    "    # Returning the output result\n",
    "    return print(f'Sum of all the numbers is : {sum}')\n",
    "\n",
    "# Taking input from user and converting it to numerical\n",
    "lst = input('Enter the numeric list coma separated (,) :').split(',')\n",
    "num_list = [float(num) for num in lst]\n",
    "\n",
    "# Calling function\n",
    "items_sum(num_list)"
   ]
  },
  {
   "cell_type": "markdown",
   "id": "bd0951b5-ed96-468b-ba56-406313c98db8",
   "metadata": {},
   "source": [
    "### 2. Write a Python program to get the largest and smallest number from a list without builtin functions. "
   ]
  },
  {
   "cell_type": "code",
   "execution_count": 13,
   "id": "2a5f3061-7418-4b7a-b2a8-109b0def9ddc",
   "metadata": {},
   "outputs": [
    {
     "name": "stdin",
     "output_type": "stream",
     "text": [
      "Enter the numeric list coma separated (,) : 1,2,3,1,2,0\n"
     ]
    },
    {
     "data": {
      "text/plain": [
       "(0, 3)"
      ]
     },
     "execution_count": 13,
     "metadata": {},
     "output_type": "execute_result"
    }
   ],
   "source": [
    "# Creating funtion to get smallest and greatest numbeers\n",
    "def get_small_large(lst):\n",
    "    # Initializing smallest & Largest as 1st element of list\n",
    "    smallest = lst[0]\n",
    "    largest = lst[0]\n",
    "    # Iterating through the list\n",
    "    for num in lst:\n",
    "        # If next number is smaller than previous\n",
    "        if num < smallest:\n",
    "            # Making the current number as smallest\n",
    "            smallest = num\n",
    "        # If next number is greater than previous\n",
    "        elif num > largest:\n",
    "            # Making the current number as greatest\n",
    "            largest = num\n",
    "    # Returning the result\n",
    "    return smallest,largest\n",
    "            \n",
    "# Taking input from user and converting it into list\n",
    "lst = input('Enter the numeric list coma separated (,) :').split(',')\n",
    "num_list = [int(num) for num in lst]\n",
    "\n",
    "# Calling function\n",
    "get_small_large(num_list)"
   ]
  },
  {
   "cell_type": "markdown",
   "id": "2c9e0f59-f680-4f68-890a-af0455690385",
   "metadata": {},
   "source": [
    "### 3. Write a Python program to find duplicate values from a list and display those. "
   ]
  },
  {
   "cell_type": "code",
   "execution_count": 11,
   "id": "eddb0eba-478a-4b91-8c23-759d5d17df0f",
   "metadata": {},
   "outputs": [
    {
     "name": "stdin",
     "output_type": "stream",
     "text": [
      "Enter the numeric list coma separated (,) : 1,2,2,3,4,4,5,5,6\n"
     ]
    },
    {
     "data": {
      "text/plain": [
       "[2, 4, 5]"
      ]
     },
     "execution_count": 11,
     "metadata": {},
     "output_type": "execute_result"
    }
   ],
   "source": [
    "# Creating a function fot duplicate values\n",
    "def duplicate_values(lst):\n",
    "    # Initializing empty list & duplicate list\n",
    "    lst_val = []\n",
    "    dup_val = []\n",
    "    # Iterating through the numbers in the list\n",
    "    for num in lst:\n",
    "        # If number is in the lst\n",
    "        if num in lst_val:\n",
    "            # Put it in the duplicate list\n",
    "            dup_val.append(num)\n",
    "        # If number is not in list adding it\n",
    "        else:\n",
    "            lst_val.append(num)\n",
    "    # Returning the Duplicate values as results\n",
    "    return dup_val\n",
    "            \n",
    "# Taking input from the user and converting it into list\n",
    "lst = input('Enter the numeric list coma separated (,) :').split(',')\n",
    "num_list = [int(num) for num in lst]\n",
    "\n",
    "# Calling function\n",
    "duplicate_values(num_list)"
   ]
  },
  {
   "cell_type": "markdown",
   "id": "d43b1e0a-4df7-46e1-bf65-87ed0dcbc2ae",
   "metadata": {},
   "source": [
    "### 4. Write a Python program to split a given list into two parts where the length of the first part of the list is given.\n",
    "- Original list: [1, 1, 2, 3, 4, 4, 5, 1] "
   ]
  },
  {
   "cell_type": "code",
   "execution_count": 17,
   "id": "c04962c6-31bb-49ab-aca6-8e5a634297a6",
   "metadata": {},
   "outputs": [
    {
     "name": "stdin",
     "output_type": "stream",
     "text": [
      "Enter the numeric list coma separated (,) : 2,4,5,7,8,9,0,9,8,76,5\n",
      "Enter a split size for 1st list : 5\n"
     ]
    },
    {
     "name": "stdout",
     "output_type": "stream",
     "text": [
      "1st list is : [2, 4, 5, 7, 8]\n",
      "2nd list is : [9, 0, 9, 8, 76, 5]\n"
     ]
    }
   ],
   "source": [
    "# Creating function to split the list\n",
    "def split_list(lst,split_size):\n",
    "    # Spliting the 1st part of the list\n",
    "    lst1 = lst[:split_size]\n",
    "    # Spliting the 2nd part of the list\n",
    "    lst2 = lst[split_size:]\n",
    "    # Returning the result as output\n",
    "    return print(f'1st list is : {lst1}\\n2nd list is : {lst2}')\n",
    "\n",
    "# Taking input from user and converting it to list\n",
    "lst = input('Enter the numeric list coma separated (,) :').split(',')\n",
    "num_list = [int(num) for num in lst]\n",
    "# Taking split size by user\n",
    "split_size = int(input('Enter a split size for 1st list :'))\n",
    "\n",
    "# Calling function\n",
    "split_list(num_list,split_size)"
   ]
  },
  {
   "cell_type": "markdown",
   "id": "0259e1fe-6688-4a40-a703-65aec868e565",
   "metadata": {},
   "source": [
    "### 5. Write a Python program to traverse a given list in reverse order, and print the elements with the original index. \n",
    "- Original list: ['red', 'green', 'white', 'black']"
   ]
  },
  {
   "cell_type": "code",
   "execution_count": 18,
   "id": "f8fc54fa-4879-453d-9719-af340ae6d827",
   "metadata": {},
   "outputs": [
    {
     "name": "stdin",
     "output_type": "stream",
     "text": [
      "Enter the numeric list coma separated (,) : k,d,f,d,s\n"
     ]
    },
    {
     "name": "stdout",
     "output_type": "stream",
     "text": [
      "Given list : ['k', 'd', 'f', 'd', 's']\n",
      "Reversed list is :\n",
      "Index : 4, Element : s\n",
      "Index : 3, Element : d\n",
      "Index : 2, Element : f\n",
      "Index : 1, Element : d\n",
      "Index : 0, Element : k\n"
     ]
    }
   ],
   "source": [
    "# Creating funtion for index\n",
    "def reverse_list(lst):\n",
    "    # Printing list\n",
    "    print(f'Given list : {lst}')\n",
    "    print(\"Reversed list is :\")\n",
    "    # Iterating through list in reverse and printing indexes\n",
    "    for i in range(len(lst)-1,-1,-1):\n",
    "        print(f'Index : {i}, Element : {lst[i]}')\n",
    "\n",
    "# Calling function\n",
    "reverse_list(input('Enter the numeric list coma separated (,) :').split(','))"
   ]
  },
  {
   "cell_type": "code",
   "execution_count": null,
   "id": "75f035cc-c4a9-4579-9c16-0fb1807fc7c8",
   "metadata": {},
   "outputs": [],
   "source": []
  }
 ],
 "metadata": {
  "kernelspec": {
   "display_name": "Python 3 (ipykernel)",
   "language": "python",
   "name": "python3"
  },
  "language_info": {
   "codemirror_mode": {
    "name": "ipython",
    "version": 3
   },
   "file_extension": ".py",
   "mimetype": "text/x-python",
   "name": "python",
   "nbconvert_exporter": "python",
   "pygments_lexer": "ipython3",
   "version": "3.12.4"
  }
 },
 "nbformat": 4,
 "nbformat_minor": 5
}
