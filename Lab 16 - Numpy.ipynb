{
 "cells": [
  {
   "cell_type": "markdown",
   "id": "95b844fa-a30d-4dd2-8086-a85965efc7a6",
   "metadata": {},
   "source": [
    "# Lab 16 - Numpy"
   ]
  },
  {
   "cell_type": "markdown",
   "id": "aa4c2e6c-cfbe-4944-81e1-5919d092aa25",
   "metadata": {},
   "source": [
    "### 1. Create a 1D array with elements from 1 to 10."
   ]
  },
  {
   "cell_type": "code",
   "execution_count": 22,
   "id": "f52bf003-b379-4e3c-a58e-3204c9a5baf4",
   "metadata": {},
   "outputs": [
    {
     "name": "stdout",
     "output_type": "stream",
     "text": [
      "Array : [ 1  2  3  4  5  6  7  8  9 10]\n"
     ]
    }
   ],
   "source": [
    "# Importing important libraries\n",
    "import numpy as np\n",
    "\n",
    "# Creating an array\n",
    "arr = np.arange(1,11)\n",
    "# Printing the array\n",
    "print(f'Array : {arr}')"
   ]
  },
  {
   "cell_type": "markdown",
   "id": "61e779cb-ad58-409c-bf06-c34f7c4afb32",
   "metadata": {},
   "source": [
    "### 2. Create a 2D array of size 3x3 filled with zeros."
   ]
  },
  {
   "cell_type": "code",
   "execution_count": 3,
   "id": "14d680e6-367f-47f6-a1b2-44ed3f04318d",
   "metadata": {},
   "outputs": [
    {
     "name": "stdout",
     "output_type": "stream",
     "text": [
      "Array : \n",
      "[[0 0 0]\n",
      " [0 0 0]\n",
      " [0 0 0]]\n"
     ]
    }
   ],
   "source": [
    "# Importing important libraries\n",
    "import numpy as np\n",
    "\n",
    "# Creating an 2D array of zeros\n",
    "arr = np.zeros((3,3),int)\n",
    "# Printing the array\n",
    "print(f'Array : \\n{arr}')"
   ]
  },
  {
   "cell_type": "markdown",
   "id": "2871bff8-5afb-4b4c-bd02-a3fd1e4e2b5d",
   "metadata": {},
   "source": [
    "### 3. Find the maximum and minimum values in an array."
   ]
  },
  {
   "cell_type": "code",
   "execution_count": 11,
   "id": "dea8c397-b228-4fb1-9f69-5f30fd70ad9c",
   "metadata": {},
   "outputs": [
    {
     "name": "stdin",
     "output_type": "stream",
     "text": [
      "Enter an array : [[2,4,5],[1,0,3]]\n"
     ]
    },
    {
     "name": "stdout",
     "output_type": "stream",
     "text": [
      "Minimum : 0 \n",
      "Maximum : 5\n"
     ]
    }
   ],
   "source": [
    "# Importing important libraries\n",
    "import numpy as np\n",
    "\n",
    "# Creating the function\n",
    "def min_max(arr):\n",
    "    # Returning the minimum and maximum of the array\n",
    "    return print(f'Minimum : {np.min(arr)} \\nMaximum : {np.max(arr)}')\n",
    "\n",
    "# Taking input from user and calling function\n",
    "min_max(eval(input('Enter an array :')))"
   ]
  },
  {
   "cell_type": "markdown",
   "id": "3d677854-52ee-4d6f-aff3-449d7c1cb3dc",
   "metadata": {},
   "source": [
    "### 4. Reshape a 1D array into a 2D array of shape 2x5."
   ]
  },
  {
   "cell_type": "code",
   "execution_count": 33,
   "id": "bae0b504-7d6e-4595-bca5-5d2720795264",
   "metadata": {},
   "outputs": [
    {
     "name": "stdin",
     "output_type": "stream",
     "text": [
      "Enter an array : [1,2,3,4,5,6,7,8,9,0]\n",
      "Enter the Row size : 5\n",
      "Enter the Column size : 2\n"
     ]
    },
    {
     "name": "stdout",
     "output_type": "stream",
     "text": [
      "The 2D array is : \n",
      "[[1 2]\n",
      " [3 4]\n",
      " [5 6]\n",
      " [7 8]\n",
      " [9 0]]\n"
     ]
    }
   ],
   "source": [
    "# Importing important libraries\n",
    "import numpy as np\n",
    "\n",
    "# Creating function\n",
    "def arr_reshape(arr,row,col):\n",
    "    # Cade where error can occur\n",
    "    try:\n",
    "        # Reshaping the array from 1D to 2D\n",
    "        new_arr = np.reshape(arr,(row,col))\n",
    "\n",
    "    # Catching the error and printing error message\n",
    "    except ValueError:\n",
    "        return print(f'Error : Row & Columns should give {len(arr)} when multiplied.')\n",
    "    # Execting the program if there's no error\n",
    "    else:\n",
    "        return print(f'The 2D array is : \\n{new_arr}')\n",
    "\n",
    "# Taking input from user and calling functions\n",
    "arr_reshape(eval(input('Enter an array :')),int(input('Enter the Row size :')),int(input('Enter the Column size :')))"
   ]
  },
  {
   "cell_type": "markdown",
   "id": "e86ce839-d894-486e-8e7a-b28e69578ee9",
   "metadata": {},
   "source": [
    "### 5. Generate a 1D array of 5 random integers between 10 and 50."
   ]
  },
  {
   "cell_type": "code",
   "execution_count": 7,
   "id": "ef17a012-e618-4f51-b42d-75671afb442b",
   "metadata": {},
   "outputs": [
    {
     "name": "stdin",
     "output_type": "stream",
     "text": [
      "Enter the Starting number : 10\n",
      "Enter the Ending number : 50\n",
      "Enter the Count : 10\n"
     ]
    },
    {
     "name": "stdout",
     "output_type": "stream",
     "text": [
      "10 random numbers between 10 & 50 are : [16 18 27 35 17 25 44 46 47 31]\n"
     ]
    }
   ],
   "source": [
    "# Importing important libraries\n",
    "import numpy as np\n",
    "\n",
    "# Creating function\n",
    "def rand_num(start, end, count):\n",
    "    # Generating array of random numbers\n",
    "    arr = np.random.randint(start,end,count)\n",
    "    # Returning the output\n",
    "    return print(f'{count} random numbers between {start} & {end} are : {arr}')\n",
    "\n",
    "# Taking input from user and calling fnuctions\n",
    "rand_num(int(input('Enter the Starting number :')),int(input('Enter the Ending number :')),int(input('Enter the Count :')))"
   ]
  },
  {
   "cell_type": "markdown",
   "id": "bff13050-bda1-4a9e-8342-fb54c829fd4f",
   "metadata": {},
   "source": [
    "### 6. Convert the below list into numpy array then display the array\n",
    "- Input: my_list = [1, 2, 3, 4, 5]"
   ]
  },
  {
   "cell_type": "code",
   "execution_count": 13,
   "id": "8a3bc506-b5fd-43a5-927b-7d51cae1091c",
   "metadata": {},
   "outputs": [
    {
     "name": "stdin",
     "output_type": "stream",
     "text": [
      "Enter a list to convert into array : [2,3,4,5,6]\n"
     ]
    },
    {
     "name": "stdout",
     "output_type": "stream",
     "text": [
      "List : [2, 3, 4, 5, 6] \n",
      "Array : [2 3 4 5 6]\n"
     ]
    }
   ],
   "source": [
    "# Importing important libraries\n",
    "import numpy as np\n",
    "\n",
    "# Calling function\n",
    "def list_to_array(lst):\n",
    "    # Creating array from list\n",
    "    arr = np.array(lst)\n",
    "    # Returning the output\n",
    "    return print(f'List : {lst} \\nArray : {arr}')\n",
    "\n",
    "# Taking input from the user and calling the function\n",
    "list_to_array(eval(input('Enter a list to convert into array :')))"
   ]
  },
  {
   "cell_type": "markdown",
   "id": "339257f0-fcd2-437f-9440-75e789f479ca",
   "metadata": {},
   "source": [
    "### 7. Convert the below list into a numpy array then display the array then display the first and last index and then multiply each element by 2 and display the result.\n",
    "- Input: my_list = [1, 2, 3, 4, 5]"
   ]
  },
  {
   "cell_type": "code",
   "execution_count": 11,
   "id": "6fc900aa-d707-459e-9958-01df44f0e34f",
   "metadata": {},
   "outputs": [
    {
     "name": "stdout",
     "output_type": "stream",
     "text": [
      "Array : [1 2 3 4 5]\n",
      "First Index : 1\n",
      "Last Index  : 5\n",
      "Multiplied by 2 : [ 2  4  6  8 10]\n"
     ]
    }
   ],
   "source": [
    "# Importing important libraries\n",
    "import numpy as np\n",
    "\n",
    "# Creating function\n",
    "def list_detail(lst):\n",
    "    # Converting list into array\n",
    "    arr = np.array(lst)\n",
    "    # Printing array, first index and last index\n",
    "    print(f'Array : {arr}')\n",
    "    print(f'First Index : {arr[0]}')\n",
    "    print(f'Last Index  : {arr[-1]}')\n",
    "    # Printing the array after multipling it by 2\n",
    "    print(f'Multiplied by 2 : {arr*2}')\n",
    "\n",
    "# Taking input from user and Calling function\n",
    "list_detail(eval('Enter the list to convert into array and get details : '))"
   ]
  },
  {
   "cell_type": "code",
   "execution_count": null,
   "id": "f40c6638-785f-4128-bbed-b487d3bdea4b",
   "metadata": {},
   "outputs": [],
   "source": []
  }
 ],
 "metadata": {
  "kernelspec": {
   "display_name": "Python 3 (ipykernel)",
   "language": "python",
   "name": "python3"
  },
  "language_info": {
   "codemirror_mode": {
    "name": "ipython",
    "version": 3
   },
   "file_extension": ".py",
   "mimetype": "text/x-python",
   "name": "python",
   "nbconvert_exporter": "python",
   "pygments_lexer": "ipython3",
   "version": "3.12.4"
  }
 },
 "nbformat": 4,
 "nbformat_minor": 5
}
