{
 "cells": [
  {
   "cell_type": "markdown",
   "id": "ca3f175e-dc86-4821-ae8f-0026ae6831d5",
   "metadata": {},
   "source": [
    "# Lab 7 - For Loop"
   ]
  },
  {
   "cell_type": "markdown",
   "id": "ca215c17-0f62-436b-a91a-6c9cc4cb17dd",
   "metadata": {},
   "source": [
    "### 1. Print the first 10 natural numbers using for loop."
   ]
  },
  {
   "cell_type": "code",
   "execution_count": 3,
   "id": "fcc6540f-7719-4ed5-9ed7-29aee7ab8751",
   "metadata": {},
   "outputs": [
    {
     "name": "stdin",
     "output_type": "stream",
     "text": [
      "Enter a number to first n Natural numbers : 10\n"
     ]
    },
    {
     "name": "stdout",
     "output_type": "stream",
     "text": [
      "1\n",
      "2\n",
      "3\n",
      "4\n",
      "5\n",
      "6\n",
      "7\n",
      "8\n",
      "9\n",
      "10\n"
     ]
    }
   ],
   "source": [
    "# Taking input from user\n",
    "num = int(input('Enter a number to first n Natural numbers :'))\n",
    "\n",
    "# Logic for printing first n natural numbers\n",
    "for i in range(1,num+1):\n",
    "    print(i)"
   ]
  },
  {
   "cell_type": "markdown",
   "id": "8d5f8c8b-855e-40cc-87c1-60ac106097e6",
   "metadata": {},
   "source": [
    "### 2. Python program to check if the given string is a palindrome."
   ]
  },
  {
   "cell_type": "code",
   "execution_count": 5,
   "id": "962eb39b-d06d-4d9d-a700-74345e4787dc",
   "metadata": {},
   "outputs": [
    {
     "name": "stdin",
     "output_type": "stream",
     "text": [
      "Enter a word to check Palindrome: ReDivider\n"
     ]
    },
    {
     "name": "stdout",
     "output_type": "stream",
     "text": [
      "\"redivider\" is palindrome.\n"
     ]
    }
   ],
   "source": [
    "# Taking input from user and converting it into lower case\n",
    "word = input('Enter a word to check Palindrome:').lower()\n",
    "\n",
    "## Program Logic\n",
    "# Checking the length of user input\n",
    "length = len(word)\n",
    "\n",
    "# Iterating till the half of the length of word\n",
    "for i in range(length//2):\n",
    "    # Matching the starting and ending each time\n",
    "    if word[i] != word[length-i-1]:\n",
    "        # If not matches ispalindrome will be False\n",
    "        ispalindrome = False\n",
    "    else:\n",
    "        # If matches ispalindrome will be True\n",
    "        ispalindrome = True\n",
    "\n",
    "# Checking ispalindrome is True or Not\n",
    "if ispalindrome:\n",
    "    # If True\n",
    "    print(f'\"{word}\" is palindrome.')\n",
    "else:\n",
    "    # If False\n",
    "    print(f'\"{word}\" is not a palindrome.')"
   ]
  },
  {
   "cell_type": "markdown",
   "id": "5bbd7315-87a5-4dc9-a1ab-d4bac4641349",
   "metadata": {},
   "source": [
    "### 3. Python program to check if a given number is an Armstrong number."
   ]
  },
  {
   "cell_type": "code",
   "execution_count": 7,
   "id": "fa63efea-ef83-41b8-a7f2-4c84a4981ca2",
   "metadata": {},
   "outputs": [
    {
     "name": "stdin",
     "output_type": "stream",
     "text": [
      "Enter a number to check Armstrong : 9926315\n"
     ]
    },
    {
     "name": "stdout",
     "output_type": "stream",
     "text": [
      "9926315 is an Armstrong Number.\n"
     ]
    }
   ],
   "source": [
    "# Taking input from user\n",
    "num = int(input('Enter a number to check Armstrong :'))\n",
    "\n",
    "# Checking whether if number is less than 0, End the program\n",
    "if num<0:\n",
    "    print('Armstrong number should be Non-Negative!')\n",
    "# Checking whether if number is greater than 0, Continue the execution.\n",
    "else:\n",
    "    # Checking the no. of digits\n",
    "    digits = len(str(num))\n",
    "\n",
    "    # Declaring bydefault variable to store sum\n",
    "    armstrong_sum = 0\n",
    "\n",
    "    # Iterating through each digit by converting it into string\n",
    "    for i in str(num):\n",
    "        # By type casting again converting string to int\n",
    "        cal = int(i)**digits\n",
    "        # Storing the calculated value in armstrong_sum variable\n",
    "        armstrong_sum += cal\n",
    "\n",
    "    # Checking whether the user input is equals to the armstrong_sum or not\n",
    "    if num == armstrong_sum:\n",
    "        print(f'{num} is an Armstrong Number.')\n",
    "    else:\n",
    "        print(f'{num} is not an Armstrong Number.')"
   ]
  },
  {
   "cell_type": "markdown",
   "id": "4e3b1601-15ed-43bb-a42f-d714e801b2e2",
   "metadata": {},
   "source": [
    "### 4. Python program to get the Fibonacci series between 0 to 50."
   ]
  },
  {
   "cell_type": "code",
   "execution_count": 9,
   "id": "f5fb9278-5a08-4c36-a38d-1e29562b337d",
   "metadata": {},
   "outputs": [
    {
     "name": "stdin",
     "output_type": "stream",
     "text": [
      "Enter a number to Fibonacci Series till nth number : 50\n"
     ]
    },
    {
     "name": "stdout",
     "output_type": "stream",
     "text": [
      "Fibonacci Series between 0 to 50 is : [0, 1, 1, 2, 3, 5, 8, 13, 21, 34]\n"
     ]
    }
   ],
   "source": [
    "# Taking input from user\n",
    "num = int(input('Enter a number to Fibonacci Series till nth number :'))\n",
    "\n",
    "## Program Logic\n",
    "\n",
    "if num>0:\n",
    "    # Creating by default fibonacci_series to store values\n",
    "    # Always start with 0 & 1 if number is greater than 1 else 0.\n",
    "    fibonacci_series = [0,1] if num>1 else [0]\n",
    "\n",
    "    # Iterating the number till the user input number\n",
    "    for i in range(2,num+1):\n",
    "        # Calculating the next number for fib series\n",
    "        next_fib = fibonacci_series[i-1] + fibonacci_series[i-2]\n",
    "        # Checking if next fib number is greater then user input, then break the program\n",
    "        if next_fib > num:\n",
    "            break\n",
    "        # Otherwise, append the next fib number in the series\n",
    "        else:\n",
    "            fibonacci_series.append(next_fib)\n",
    "    # Printing the final Fib Number series\n",
    "    print(f'Fibonacci Series between 0 to {num} is : {fibonacci_series}')\n",
    "# If the number is less than or equals to Zero.\n",
    "else:\n",
    "    print('Number should be greater than Zero !')\n",
    "    \n"
   ]
  },
  {
   "cell_type": "markdown",
   "id": "1eefb5d7-da52-45cb-8b9a-af654f6954b9",
   "metadata": {},
   "source": [
    "### 5. Python program to check the validity of password input by users."
   ]
  },
  {
   "cell_type": "code",
   "execution_count": 11,
   "id": "82c8548e-5531-4170-bc1a-6803220fffa4",
   "metadata": {},
   "outputs": [
    {
     "name": "stdin",
     "output_type": "stream",
     "text": [
      "Enter your Password to check Validity : Myself@321\n"
     ]
    },
    {
     "name": "stdout",
     "output_type": "stream",
     "text": [
      "Password is valid.\n"
     ]
    }
   ],
   "source": [
    "# Taking inout from user\n",
    "passwd = input('Enter your Password to check Validity :')\n",
    "\n",
    "# Checking whether the password is greater than 8 char or not\n",
    "if len(passwd)>8:\n",
    "    # Declaring Special char\n",
    "    special_char = '@#$%&'\n",
    "\n",
    "    # Declaring bydefault False to all checkup parameters variables\n",
    "    has_special = has_lower = has_upper = has_digit = False\n",
    "\n",
    "    # Iterating each character of password to the checkup param\n",
    "    for char in passwd:\n",
    "        # Checking for Upper Case\n",
    "        if char.isupper():\n",
    "            has_upper = True\n",
    "        # Checking for Lower Case\n",
    "        elif char.islower():\n",
    "            has_lower = True\n",
    "        # Checking for Digits\n",
    "        elif char.isdigit():\n",
    "            has_digit = True\n",
    "        # Checking for Special Characters\n",
    "        elif char in special_char:\n",
    "            has_special = True\n",
    "\n",
    "    # Checking whether the checkup parameter are present in passwd or not\n",
    "    # Checking for Upper Case\n",
    "    if not has_upper:\n",
    "        print('Invalid : Password must contain atleast one Upper Case.')\n",
    "    # Checking for Lower Case\n",
    "    elif not has_lower:\n",
    "        print('Invalid : Password must contain atleast one Lower Case.')\n",
    "    # Checking for Digits\n",
    "    elif not has_digit:\n",
    "        print('Invalid : Password must contain atleast one Digit.')\n",
    "    # Checking for Special Characters\n",
    "    elif not has_special:\n",
    "        print('Invalid : Password must contain atleast one Special Character.')\n",
    "    # If all the checkup param are True\n",
    "    else:\n",
    "        print('Password is valid.')\n",
    "# If password is of less then 8 characters\n",
    "else:\n",
    "    print('Invalid : Password must be of atleast 8 characters long !')"
   ]
  },
  {
   "cell_type": "code",
   "execution_count": null,
   "id": "934026b1-84eb-4164-b8a8-40079fc9db36",
   "metadata": {},
   "outputs": [],
   "source": []
  }
 ],
 "metadata": {
  "kernelspec": {
   "display_name": "Python 3 (ipykernel)",
   "language": "python",
   "name": "python3"
  },
  "language_info": {
   "codemirror_mode": {
    "name": "ipython",
    "version": 3
   },
   "file_extension": ".py",
   "mimetype": "text/x-python",
   "name": "python",
   "nbconvert_exporter": "python",
   "pygments_lexer": "ipython3",
   "version": "3.12.4"
  }
 },
 "nbformat": 4,
 "nbformat_minor": 5
}
