{
 "cells": [
  {
   "cell_type": "markdown",
   "id": "d6efa7d2-1bdc-400f-8916-9357e03b2c98",
   "metadata": {},
   "source": [
    "# Lab 10 - Files IO"
   ]
  },
  {
   "cell_type": "markdown",
   "id": "01bfed91-1a7c-4514-bee4-d37ee9bdf976",
   "metadata": {},
   "source": [
    "### 1.Write a function in python to read the content from a text file \"ABC.txt\" line by line and display the same on screen."
   ]
  },
  {
   "cell_type": "code",
   "execution_count": 46,
   "id": "feae61e9-3e8f-4bde-a889-ab478acf2db6",
   "metadata": {},
   "outputs": [
    {
     "name": "stdin",
     "output_type": "stream",
     "text": [
      "Enter file name to Read : ABC.txt\n"
     ]
    },
    {
     "name": "stdout",
     "output_type": "stream",
     "text": [
      "......Reading File......\n",
      "Hello Hustler!\n",
      "\n",
      "Welcome to the Python Programming.\n",
      "\n",
      "Let's learn Python for Fun !!!\n"
     ]
    }
   ],
   "source": [
    "# Creating function to read file line by line\n",
    "def read_file(file_name):\n",
    "    print(\"......Reading File......\")\n",
    "    # Opening the file in read mode\n",
    "    with open(file_name, 'r') as file:\n",
    "        # Iterating through each line in the file\n",
    "        for content in file.readlines():\n",
    "            print(content)\n",
    "\n",
    "# Taking input from user and calling function\n",
    "read_file(input('Enter file name to Read :'))"
   ]
  },
  {
   "cell_type": "markdown",
   "id": "4f411a92-8cc7-4842-8c6d-fd97bbe16774",
   "metadata": {},
   "source": [
    "### 2.Write a function in Python to count and display the total number of words in a text file “ABC.txt”"
   ]
  },
  {
   "cell_type": "code",
   "execution_count": 22,
   "id": "b2eef8a3-0fbc-4dd6-8c9e-49ee9d0e8446",
   "metadata": {},
   "outputs": [
    {
     "name": "stdin",
     "output_type": "stream",
     "text": [
      "Enter file name to Count words : ABC.txt\n"
     ]
    },
    {
     "name": "stdout",
     "output_type": "stream",
     "text": [
      "Total words in file : 13 words\n"
     ]
    }
   ],
   "source": [
    "# Creating a function to display count of words\n",
    "def count_words(file_name):\n",
    "    # Opening file in by default read mode\n",
    "    with open(file_name) as file:\n",
    "        content = file.read()\n",
    "        # creating list of words and counting the words\n",
    "        count = len(content.split())\n",
    "        # Printing output\n",
    "        print(f'Total words in file : {count} words')\n",
    "\n",
    "# Taking input from user and calling function\n",
    "count_words(input('Enter file name to Count words :'))"
   ]
  },
  {
   "cell_type": "markdown",
   "id": "dbf83a11-502d-43ec-956f-af122e4bc21f",
   "metadata": {},
   "source": [
    "### 3.Write a function in Python to count uppercase character in a text file “ABC.txt”"
   ]
  },
  {
   "cell_type": "code",
   "execution_count": 26,
   "id": "97048aaf-57cf-4ef1-93a9-9894b281765c",
   "metadata": {},
   "outputs": [
    {
     "name": "stdin",
     "output_type": "stream",
     "text": [
      "Enter file name to Count Upper Case : ABC.txt\n"
     ]
    },
    {
     "name": "stdout",
     "output_type": "stream",
     "text": [
      "Total Upper Case Letters are : 8 letters\n"
     ]
    }
   ],
   "source": [
    "# Creating a function to count uppercase\n",
    "def count_uppercase(file_name):\n",
    "    # Initializing count variable\n",
    "    count = 0\n",
    "    # Opening file by default in read mode\n",
    "    with open(file_name) as file:\n",
    "        content = file.read()\n",
    "        # Iterating through each letter in content\n",
    "        for letter in content:\n",
    "            # Checking if Letter is in Uppercase\n",
    "            if letter.isupper():\n",
    "                # Increasing the count\n",
    "                count += 1\n",
    "    return print(f'Total Upper Case Letters are : {count} letters')\n",
    "\n",
    "# Taking input from user and calling function\n",
    "count_uppercase(input('Enter file name to Count Upper Case :'))"
   ]
  },
  {
   "cell_type": "markdown",
   "id": "1a6473d3-f5d0-4e74-981f-8ff58a386542",
   "metadata": {},
   "source": [
    "### 4.Write a function display_words() in python to read lines from a text file \"story.txt\", and display those words, which are less than 4 characters."
   ]
  },
  {
   "cell_type": "code",
   "execution_count": 44,
   "id": "09602a95-1b9d-4eeb-a227-2f0cff2168dc",
   "metadata": {},
   "outputs": [
    {
     "name": "stdin",
     "output_type": "stream",
     "text": [
      "Enter file name to get words less than size : ABC.txt\n",
      "Enter the size of characters: 7\n"
     ]
    },
    {
     "name": "stdout",
     "output_type": "stream",
     "text": [
      "Words less than 7 characters are :\n",
      "Hello, to, the, Python, Let's, learn, Python, for, Fun, !!!, "
     ]
    }
   ],
   "source": [
    "# Creating a function to display words less the 4 characters\n",
    "def display_words(file_name,size):\n",
    "    # Printing statement\n",
    "    print(f'Words less than {size} characters are :')\n",
    "    # Opening file by default in read mode\n",
    "    with open(file_name) as file:\n",
    "        # Iterating file line by line\n",
    "        for line in file.readlines():\n",
    "            # Iterating line word by word\n",
    "            for word in line.split():\n",
    "                # Checking word is less than 4 or not\n",
    "                if len(word)<size:\n",
    "                    # Printing the words in the same line with coma separated\n",
    "                    print(word,end=', ')\n",
    "                    \n",
    "# Taking input from user and calling function\n",
    "display_words(input('Enter file name to get words less than size :'), int(input('Enter the size of characters :')))"
   ]
  },
  {
   "cell_type": "code",
   "execution_count": null,
   "id": "2d5a9ca2-3cdc-4808-930b-abfb5e1eee44",
   "metadata": {},
   "outputs": [],
   "source": []
  },
  {
   "cell_type": "code",
   "execution_count": null,
   "id": "0979eeec-6a58-43ea-8e4e-3f002c04766c",
   "metadata": {},
   "outputs": [],
   "source": []
  }
 ],
 "metadata": {
  "kernelspec": {
   "display_name": "Python 3 (ipykernel)",
   "language": "python",
   "name": "python3"
  },
  "language_info": {
   "codemirror_mode": {
    "name": "ipython",
    "version": 3
   },
   "file_extension": ".py",
   "mimetype": "text/x-python",
   "name": "python",
   "nbconvert_exporter": "python",
   "pygments_lexer": "ipython3",
   "version": "3.12.4"
  }
 },
 "nbformat": 4,
 "nbformat_minor": 5
}
