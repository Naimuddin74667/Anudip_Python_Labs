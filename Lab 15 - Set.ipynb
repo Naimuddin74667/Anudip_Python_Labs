{
 "cells": [
  {
   "cell_type": "markdown",
   "id": "4ef72f13-5bd6-45bb-9edd-fe41d40b58b4",
   "metadata": {},
   "source": [
    "# Lab 15 - Set"
   ]
  },
  {
   "cell_type": "markdown",
   "id": "4fc43302-0425-43aa-bb29-c32ba598fd56",
   "metadata": {},
   "source": [
    "### 1. Write a Python program to Get Only unique items from two sets.               \n",
    "- Input: \n",
    "  - set1 = {10, 20, 30, 40, 50} \n",
    "  - set2 = {30, 40, 50, 60, 70}"
   ]
  },
  {
   "cell_type": "code",
   "execution_count": 43,
   "id": "30c95717-7a34-417e-b029-9de90ec46ddc",
   "metadata": {},
   "outputs": [
    {
     "name": "stdin",
     "output_type": "stream",
     "text": [
      "Enter 1st set : {10, 20, 30, 40, 50}\n",
      "Enter 2nd set : {30, 40, 50, 60, 70}\n"
     ]
    },
    {
     "name": "stdout",
     "output_type": "stream",
     "text": [
      "Unique values of both sets are : {70, 10, 20, 60}\n"
     ]
    }
   ],
   "source": [
    "# Creating function\n",
    "def unique_items(set1,set2):\n",
    "    # Getting difference of set2 from set1\n",
    "    uniq_set1 = set1.difference(set2)\n",
    "    # Getting difference of set1 from set2\n",
    "    uniq_set2 = set2.difference(set1)\n",
    "    # Merging both differences\n",
    "    unique = uniq_set1.union(uniq_set2)\n",
    "    # Returning the output\n",
    "    return print(f'Unique values of both sets are : {unique}')\n",
    "\n",
    "# Taking input from user and calling function\n",
    "unique_items(eval(input('Enter 1st set :')),eval(input('Enter 2nd set :')))"
   ]
  },
  {
   "cell_type": "markdown",
   "id": "1d499951-8319-4d63-a93d-b48e0cd9d859",
   "metadata": {},
   "source": [
    "### 2. Write a Python program to Return a set of elements present in Set A or B, but not both. \n",
    "- Input:\n",
    "  - set1 = {10, 20, 30, 40, 50} \n",
    "  - set2 = {30, 40, 50, 60, 70}"
   ]
  },
  {
   "cell_type": "code",
   "execution_count": 45,
   "id": "221950e2-41b1-4481-86ca-d68380733e83",
   "metadata": {},
   "outputs": [
    {
     "name": "stdin",
     "output_type": "stream",
     "text": [
      "Enter 1st set : {10, 20, 30, 40, 50}\n",
      "Enter 2nd set : {30, 40, 50, 60, 70}\n"
     ]
    },
    {
     "name": "stdout",
     "output_type": "stream",
     "text": [
      "Unique values in set1 : {10, 20} \n",
      "Unique values in set2 : {60, 70}\n"
     ]
    }
   ],
   "source": [
    "# Creating function\n",
    "def unique_items(set1,set2):\n",
    "    # Getting difference of set2 from set1\n",
    "    uniq_set1 = set1.difference(set2)\n",
    "    # Getting difference of set1 from set2\n",
    "    uniq_set2 = set2.difference(set1)\n",
    "    # Returning the result\n",
    "    return print(f'Unique values in set1 : {uniq_set1} \\nUnique values in set2 : {uniq_set2}')\n",
    "\n",
    "# Taking input from user and calling function\n",
    "unique_items(eval(input('Enter 1st set :')),eval(input('Enter 2nd set :')))"
   ]
  },
  {
   "cell_type": "markdown",
   "id": "fba599ba-45da-4907-a7e3-56643e305fdc",
   "metadata": {},
   "source": [
    "### 3. Write a Python program to Check if two sets have any elements in common. If yes, display the common elements. \n",
    "- Input:\n",
    "  - set1 = {10, 20, 30, 40, 50} \n",
    "  - set2 = {60, 70, 80, 90, 10}"
   ]
  },
  {
   "cell_type": "code",
   "execution_count": 55,
   "id": "9102dd8f-0a15-4c0a-86c2-a8d881bb6045",
   "metadata": {},
   "outputs": [
    {
     "name": "stdin",
     "output_type": "stream",
     "text": [
      "Enter 1st set : {10, 20, 30, 40, 50}\n",
      "Enter 2nd set : {60, 70, 80, 90, 10}\n"
     ]
    },
    {
     "name": "stdout",
     "output_type": "stream",
     "text": [
      "Common values in both set are : {10}\n"
     ]
    }
   ],
   "source": [
    "# Creating function\n",
    "def common_items(set1,set2):\n",
    "    # Returning the intersection of both the sets\n",
    "    return print(f'Common values in both set are : {set1.intersection(set2)}')\n",
    "\n",
    "# Taking input from user and calling function\n",
    "common_items(eval(input('Enter 1st set :')),eval(input('Enter 2nd set :')))"
   ]
  },
  {
   "cell_type": "markdown",
   "id": "94ba5599-58ca-4ec2-9b43-2ea869f8e965",
   "metadata": {},
   "source": [
    "### 4. Write a Python program to Remove items from set1 that are not common to both set1 and set2. \n",
    "- Input:\n",
    "  - set1 = {10, 20, 30, 40, 50} \n",
    "  - set2 = {30, 40, 50, 60, 70}"
   ]
  },
  {
   "cell_type": "code",
   "execution_count": 60,
   "id": "979065e5-fab2-407a-ad20-695aaaca3cfe",
   "metadata": {},
   "outputs": [
    {
     "name": "stdin",
     "output_type": "stream",
     "text": [
      "Enter 1st set : {10, 20, 30, 40, 50}\n",
      "Enter 2nd set : {30, 40, 50, 60, 70}\n"
     ]
    },
    {
     "name": "stdout",
     "output_type": "stream",
     "text": [
      "Unique items in set1 are : {20, 10}\n"
     ]
    }
   ],
   "source": [
    "# Creating function\n",
    "def remove_common(set1, set2):\n",
    "    # Iterating through element in set2\n",
    "    for i in set2:\n",
    "        # Checking if element of set2 is present in set1\n",
    "        if i in set1:\n",
    "            # Removing the element from set2\n",
    "            set1.remove(i)\n",
    "    # Returning the output\n",
    "    return print(f'Unique items in set1 are : {set1}')\n",
    "\n",
    "# Taking input from user and calling functions\n",
    "remove_common(eval(input('Enter 1st set :')),eval(input('Enter 2nd set :')))"
   ]
  },
  {
   "cell_type": "code",
   "execution_count": null,
   "id": "249b4c8f-75dd-4373-8b7b-a8458527a658",
   "metadata": {},
   "outputs": [],
   "source": []
  }
 ],
 "metadata": {
  "kernelspec": {
   "display_name": "Python 3 (ipykernel)",
   "language": "python",
   "name": "python3"
  },
  "language_info": {
   "codemirror_mode": {
    "name": "ipython",
    "version": 3
   },
   "file_extension": ".py",
   "mimetype": "text/x-python",
   "name": "python",
   "nbconvert_exporter": "python",
   "pygments_lexer": "ipython3",
   "version": "3.12.4"
  }
 },
 "nbformat": 4,
 "nbformat_minor": 5
}
