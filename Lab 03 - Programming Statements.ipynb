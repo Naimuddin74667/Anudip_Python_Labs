{
 "cells": [
  {
   "cell_type": "markdown",
   "id": "28f773b8-ba35-49c8-b997-48dea1cdf867",
   "metadata": {},
   "source": [
    "# Lab 3 - Programming Statements"
   ]
  },
  {
   "cell_type": "markdown",
   "id": "facbd700-492d-41d6-90f1-979dac195710",
   "metadata": {},
   "source": [
    "## 1. Using input() function take one number from the user and using ternary operators check whether the number is even or odd "
   ]
  },
  {
   "cell_type": "code",
   "execution_count": 3,
   "id": "7d7bc575-93c8-40e8-8bc5-781b90585218",
   "metadata": {},
   "outputs": [
    {
     "name": "stdin",
     "output_type": "stream",
     "text": [
      "Enter a number :  23\n"
     ]
    },
    {
     "name": "stdout",
     "output_type": "stream",
     "text": [
      "23 is odd number.\n"
     ]
    }
   ],
   "source": [
    "# Declaring variable to take input\n",
    "num = int(input('Enter a number : '))\n",
    "\n",
    "# Logic to check number is even or odd\n",
    "if num%2==0:\n",
    "    print(f'{num} is even number.')\n",
    "else:\n",
    "    print(f'{num} is odd number.')"
   ]
  },
  {
   "cell_type": "markdown",
   "id": "494cb1f5-3156-4cfb-8968-0c1e91bdebc2",
   "metadata": {},
   "source": [
    "## 2. Using input function take two number and then swap the number "
   ]
  },
  {
   "cell_type": "code",
   "execution_count": 5,
   "id": "25dc2d44-e7e2-455a-b2a8-3207f9adf70c",
   "metadata": {},
   "outputs": [
    {
     "name": "stdin",
     "output_type": "stream",
     "text": [
      "Enter 1st number :  23\n",
      "Enter 2nd number :  32\n"
     ]
    },
    {
     "name": "stdout",
     "output_type": "stream",
     "text": [
      "Now, 1st number is 32 & 2nd number is 23.\n"
     ]
    },
    {
     "name": "stdin",
     "output_type": "stream",
     "text": [
      "Enter 1st number :  23\n",
      "Enter 2nd number :  32\n"
     ]
    },
    {
     "name": "stdout",
     "output_type": "stream",
     "text": [
      "Now, 1st number is 32 & 2nd number is 23.\n"
     ]
    }
   ],
   "source": [
    "## By using temporary variable\n",
    "\n",
    "# Declaring variable to take input\n",
    "num1 = int(input('Enter 1st number : '))\n",
    "num2 = int(input('Enter 2nd number : '))\n",
    "\n",
    "# Logic to swap\n",
    "temp = num1\n",
    "num1 = num2\n",
    "num2 = temp\n",
    "\n",
    "# Output\n",
    "print(f'Now, 1st number is {num1} & 2nd number is {num2}.')\n",
    "\n",
    "## Without using temporary variable\n",
    "\n",
    "# Declaring variable to take input\n",
    "num1 = int(input('Enter 1st number : '))\n",
    "num2 = int(input('Enter 2nd number : '))\n",
    "\n",
    "# Logic to swap\n",
    "num1,num2 = num2,num1\n",
    "\n",
    "# Output\n",
    "print(f'Now, 1st number is {num1} & 2nd number is {num2}.')\n",
    "\n"
   ]
  },
  {
   "cell_type": "markdown",
   "id": "87aa5c43-434d-4532-af87-d117bb586051",
   "metadata": {},
   "source": [
    "## 3. Write a Program to Convert Kilometers to Miles "
   ]
  },
  {
   "cell_type": "code",
   "execution_count": 7,
   "id": "5666f553-6b6f-4c03-b9e1-eb7c15002ea5",
   "metadata": {},
   "outputs": [
    {
     "name": "stdin",
     "output_type": "stream",
     "text": [
      "Enter Km :  43\n"
     ]
    },
    {
     "name": "stdout",
     "output_type": "stream",
     "text": [
      "43 Km is 26.718909999999997 Miles.\n"
     ]
    }
   ],
   "source": [
    "# Declaring variable to take input\n",
    "num_km = int(input('Enter Km : '))\n",
    "\n",
    "# Logic or Formula to convert Km to Miles\n",
    "num_miles = num_km*0.62137\n",
    "\n",
    "# Output\n",
    "print(f'{num_km} Km is {num_miles} Miles.')"
   ]
  },
  {
   "cell_type": "markdown",
   "id": "7f85d3eb-7320-49fb-9da9-e446cf9821fd",
   "metadata": {},
   "source": [
    "## 4. Find the Simple Interest on Rs. 200 for 5 years at 5% per year."
   ]
  },
  {
   "cell_type": "code",
   "execution_count": 17,
   "id": "da856a20-5771-4e84-aea3-38692f36c289",
   "metadata": {},
   "outputs": [
    {
     "name": "stdout",
     "output_type": "stream",
     "text": [
      "Intrest on Rs.200, for the time of 5 years at 5% rate of intrest will be : Rs.50.0\n"
     ]
    }
   ],
   "source": [
    "# Declaring variable\n",
    "amount = 200\n",
    "tenure = 5\n",
    "intrest_rate = 5\n",
    "\n",
    "# Logic or Formula to calculate Simple Intrest\n",
    "Intrest = (amount*tenure*intrest_rate)/100\n",
    "\n",
    "# Output\n",
    "print(f'Intrest on Rs.{amount}, for the time of {tenure} years at {intrest_rate}% rate of intrest will be : Rs.{Intrest}')"
   ]
  },
  {
   "cell_type": "code",
   "execution_count": null,
   "id": "30608a9a-966f-4207-96e7-924487e38b78",
   "metadata": {},
   "outputs": [],
   "source": []
  }
 ],
 "metadata": {
  "kernelspec": {
   "display_name": "Python 3 (ipykernel)",
   "language": "python",
   "name": "python3"
  },
  "language_info": {
   "codemirror_mode": {
    "name": "ipython",
    "version": 3
   },
   "file_extension": ".py",
   "mimetype": "text/x-python",
   "name": "python",
   "nbconvert_exporter": "python",
   "pygments_lexer": "ipython3",
   "version": "3.12.4"
  }
 },
 "nbformat": 4,
 "nbformat_minor": 5
}
