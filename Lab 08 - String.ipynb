{
 "cells": [
  {
   "cell_type": "markdown",
   "id": "db7b9b4f-89d8-49f2-9ca1-f40111443ab8",
   "metadata": {},
   "source": [
    "# Lab 8 - String"
   ]
  },
  {
   "cell_type": "markdown",
   "id": "e9c7801f-3625-4f56-93c4-28bb2b31803a",
   "metadata": {},
   "source": [
    "### 1. Write a Python program to count the occurrences of each word in a given sentence \n",
    "- string = “To change the overall look of your document. To change the look available in the gallery”."
   ]
  },
  {
   "cell_type": "code",
   "execution_count": 3,
   "id": "d82cdcec-7398-4e31-95b8-802b02ada71f",
   "metadata": {},
   "outputs": [
    {
     "name": "stdin",
     "output_type": "stream",
     "text": [
      "Enter the sentence to count word occurance: To change the overall look of your document. To change the look available in the gallery\n"
     ]
    },
    {
     "data": {
      "text/plain": [
       "\"Counts of characters are : {'To': 2, 'change': 2, 'the': 3, 'overall': 1, 'look': 2, 'of': 1, 'your': 1, 'document.': 1, 'available': 1, 'in': 1, 'gallery': 1}\""
      ]
     },
     "execution_count": 3,
     "metadata": {},
     "output_type": "execute_result"
    }
   ],
   "source": [
    "# Taking input from user\n",
    "string = str(input('Enter the sentence to count word occurance:'))\n",
    "\n",
    "# Function to Count each word\n",
    "def word_count(string):\n",
    "    # Initializing empty dictonary\n",
    "    word_dict = {}\n",
    "    # Splitting th words from sentence\n",
    "    words = string.split()\n",
    "\n",
    "    # Itrating through the words\n",
    "    for word in words:\n",
    "        # If not present in dictnory adding it\n",
    "        if word not in word_dict:\n",
    "            word_dict[word] = 1\n",
    "        # If its present just increasing the count\n",
    "        else:\n",
    "            word_dict[word] += 1\n",
    "    # Returning the count of words dictonary\n",
    "    return f'Counts of characters are : {word_dict}'\n",
    "\n",
    "# Calling Function\n",
    "word_count(string)"
   ]
  },
  {
   "cell_type": "markdown",
   "id": "64950633-f140-4a37-b02e-9540a8fcf835",
   "metadata": {},
   "source": [
    "### 2. Write a Python program to remove a newline in Python \n",
    "- String = \"\\nBest \\nDeeptech \\nPython \\nTraining\\n"
   ]
  },
  {
   "cell_type": "code",
   "execution_count": 16,
   "id": "2f865dd4-2dbc-4c84-a0f9-8567f55eff12",
   "metadata": {},
   "outputs": [
    {
     "name": "stdout",
     "output_type": "stream",
     "text": [
      "New String will be : Best Deeptech Python Training\n"
     ]
    }
   ],
   "source": [
    "# Declating string variable\n",
    "string = \"\\nBest \\nDeeptech \\nPython \\nTraining\\n\"\n",
    "\n",
    "# Initializing empty string\n",
    "new_string = ''\n",
    "# Itrating through each characgters\n",
    "for char in string:\n",
    "    # If '\\n' present then skiping it.\n",
    "    if char=='\\n':\n",
    "        continue\n",
    "    # If not present, Adding it to the new string\n",
    "    else:\n",
    "        new_string += char\n",
    "\n",
    "# Printing result\n",
    "print(f'New String will be : {new_string}')"
   ]
  },
  {
   "cell_type": "markdown",
   "id": "80e1ee32-4423-4d69-b205-d703ad33ee1f",
   "metadata": {},
   "source": [
    "### 3. Write a Python program to reverse words in a string \n",
    "- String = “Deeptech Python Training” "
   ]
  },
  {
   "cell_type": "code",
   "execution_count": 7,
   "id": "c05c72d6-e86d-44d7-8828-d0622a82da4a",
   "metadata": {},
   "outputs": [
    {
     "name": "stdin",
     "output_type": "stream",
     "text": [
      "Enter the sentence to reverse the words : Deeptech Python Training\n"
     ]
    },
    {
     "data": {
      "text/plain": [
       "'Training Python Deeptech'"
      ]
     },
     "execution_count": 7,
     "metadata": {},
     "output_type": "execute_result"
    }
   ],
   "source": [
    "# Taking input from user\n",
    "string = input('Enter the sentence to reverse the words :')\n",
    "\n",
    "# Creating function to Reverse String\n",
    "def rev_string(string):\n",
    "    # Spliting sentence into words\n",
    "    words = string.split()\n",
    "    # Reversing the words order\n",
    "    rev_words = words[::-1]\n",
    "    # Joining them into one sentence\n",
    "    result = ' '.join(rev_words)\n",
    "    # Returning the result\n",
    "    return result\n",
    "\n",
    "# Calling Funtion\n",
    "rev_string(string)"
   ]
  },
  {
   "cell_type": "markdown",
   "id": "b3cc7ede-c894-420a-8a19-e8fd60abe73e",
   "metadata": {},
   "source": [
    "### 4. Write a Python program to count and display the vowels of a given text \n",
    "- String=”Welcome to python Training\""
   ]
  },
  {
   "cell_type": "code",
   "execution_count": 9,
   "id": "a70f50be-7cd3-4f9e-8ead-2e71ec0407d3",
   "metadata": {},
   "outputs": [
    {
     "name": "stdin",
     "output_type": "stream",
     "text": [
      "Enter the sentence to check vowels : Welcome to python Training\n"
     ]
    },
    {
     "data": {
      "text/plain": [
       "{'e': 2, 'o': 3, 'a': 1, 'i': 2}"
      ]
     },
     "execution_count": 9,
     "metadata": {},
     "output_type": "execute_result"
    }
   ],
   "source": [
    "# Taking input from user and converting it into lower case\n",
    "string = input('Enter the sentence to check vowels :').lower()\n",
    "\n",
    "# Creating function to find vowels\n",
    "def count_vowels(string):\n",
    "    # Declaring vowels list\n",
    "    vowels = ['a','e','i','o','u']\n",
    "    # Initializing empty dictonary\n",
    "    vowel_count = {}\n",
    "\n",
    "    # Iterating through each characters of string\n",
    "    for char in string:\n",
    "        # If character is in vowels continue the execution\n",
    "        if char in vowels:\n",
    "            # If vowel is not in vowel count dictonary adding it\n",
    "            if char not in vowel_count:\n",
    "                vowel_count[char] = 1\n",
    "            # If vowel is already in vowel count dictonary increasing the count\n",
    "            else:\n",
    "                vowel_count[char] += 1\n",
    "    # Returning the result\n",
    "    return vowel_count\n",
    "\n",
    "# Calling Function\n",
    "count_vowels(string)"
   ]
  },
  {
   "cell_type": "code",
   "execution_count": null,
   "id": "d87d861f-4451-4c80-adfe-1eca96ab6395",
   "metadata": {},
   "outputs": [],
   "source": []
  },
  {
   "cell_type": "code",
   "execution_count": null,
   "id": "50175622-ed0f-4909-9167-0739fa0fb190",
   "metadata": {},
   "outputs": [],
   "source": []
  }
 ],
 "metadata": {
  "kernelspec": {
   "display_name": "Python 3 (ipykernel)",
   "language": "python",
   "name": "python3"
  },
  "language_info": {
   "codemirror_mode": {
    "name": "ipython",
    "version": 3
   },
   "file_extension": ".py",
   "mimetype": "text/x-python",
   "name": "python",
   "nbconvert_exporter": "python",
   "pygments_lexer": "ipython3",
   "version": "3.12.4"
  }
 },
 "nbformat": 4,
 "nbformat_minor": 5
}
