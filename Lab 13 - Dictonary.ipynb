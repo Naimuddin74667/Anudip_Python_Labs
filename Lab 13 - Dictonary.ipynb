{
 "cells": [
  {
   "cell_type": "markdown",
   "id": "d11db665-8f8e-461b-a59b-83de79447021",
   "metadata": {},
   "source": [
    "# Lab 13 - Dictonary"
   ]
  },
  {
   "cell_type": "markdown",
   "id": "2d70767c-d6b1-41bc-8527-c2a49ef6a898",
   "metadata": {},
   "source": [
    "### 1.Write a Python program and calculate the mean of the below dictionary. \n",
    "- test_dict = {\"A\" : 6, \"B\" : 9, \"C\" : 5, \"D\" : 7, \"E\" : 4}"
   ]
  },
  {
   "cell_type": "code",
   "execution_count": 19,
   "id": "d98479db-7b4f-4caa-bb8e-1d7a4c5bd764",
   "metadata": {},
   "outputs": [
    {
     "name": "stdin",
     "output_type": "stream",
     "text": [
      "Enter a dictionary : {\"A\" : 6, \"B\" : 9, \"C\" : 5, \"D\" : 7, \"E\" : 4}\n"
     ]
    },
    {
     "name": "stdout",
     "output_type": "stream",
     "text": [
      "Mean of values will be 6.2.\n"
     ]
    }
   ],
   "source": [
    "# Creating a function\n",
    "def dict_mean(dict):\n",
    "    # Initializing values and sum variable\n",
    "    values = []\n",
    "    sum = 0\n",
    "    # Checking if dictonary is not empty\n",
    "    if len(dict)>0:\n",
    "        # Iterating through dictonary and Fetching Keys and values\n",
    "        for key,val in dict.items():\n",
    "            # Adding value in values list\n",
    "            values.append(val)\n",
    "        # Iterating through values list and doing the sum\n",
    "        for num in values:\n",
    "            sum += num\n",
    "        # Getting the mean\n",
    "        mean = sum/len(dict)\n",
    "        # Returning the result as output\n",
    "        return print(f'Mean of values will be {mean}.')\n",
    "    # If dictonary is empty\n",
    "    else:\n",
    "        return print(f'No element in Dictonary ! Mean will be Zero.')\n",
    "\n",
    "# Taking input from user and Calling function\n",
    "dict_mean(eval(input(\"Enter a dictionary :\")))"
   ]
  },
  {
   "cell_type": "markdown",
   "id": "cb567e72-0eeb-4219-9e8b-b8566b0c4e4b",
   "metadata": {},
   "source": [
    "### 2.Write a Python script to concatenate the following dictionaries to create a new one.\n",
    "- Sample Dictionary : dic1={1:10, 2:20} dic2={3:30, 4:40} dic3={5:50,6:60} \n",
    "- Expected Result : {1: 10, 2: 20, 3: 30, 4: 40, 5: 50, 6: 60}"
   ]
  },
  {
   "cell_type": "code",
   "execution_count": 59,
   "id": "0ffc4ea6-a341-4a45-8fb2-3164c2751ce8",
   "metadata": {},
   "outputs": [
    {
     "name": "stdin",
     "output_type": "stream",
     "text": [
      "Enter a 1st dictionary : {1:10, 2:20}\n",
      "Enter a 2nd dictionary : {3:30, 4:40}\n",
      "Enter a 3rd dictionary : {5:50, 6:60}\n"
     ]
    },
    {
     "data": {
      "text/plain": [
       "{1: 10, 2: 20, 3: 30, 4: 40, 5: 50, 6: 60}"
      ]
     },
     "execution_count": 59,
     "metadata": {},
     "output_type": "execute_result"
    }
   ],
   "source": [
    "# Creating a function for concatinating dictonary\n",
    "def concate_dict(*dicts):\n",
    "    # Initializing new empty dictonary\n",
    "    new_dict = {}\n",
    "    # Iterating through each dictonaries\n",
    "    for dict in dicts:\n",
    "        # Adding the dictonary into new dictonary\n",
    "        new_dict.update(dict)\n",
    "    # returning the new merged dictonary\n",
    "    return print(f'Concatinated Dictonary is : {new_dict}')\n",
    "\n",
    "# Taking input from user and calling function\n",
    "concate_dict(eval(input(\"Enter a 1st dictionary :\")),eval(input(\"Enter a 2nd dictionary :\")),eval(input(\"Enter a 3rd dictionary :\")))"
   ]
  },
  {
   "cell_type": "markdown",
   "id": "5301e0f2-f04e-41d9-ab55-41a55b4d3ae3",
   "metadata": {},
   "source": [
    "### 3.Write a Python program to get the key, value and item in a dictionary. \n",
    "- input:dict_num = {1: 10, 2: 20, 3: 30, 4: 40, 5: 50, 6: 60}"
   ]
  },
  {
   "cell_type": "code",
   "execution_count": 95,
   "id": "37cc006d-20d6-46ae-9a09-34a96ab5a0a7",
   "metadata": {},
   "outputs": [
    {
     "name": "stdin",
     "output_type": "stream",
     "text": [
      "Enter a dictionary : {1: 10, 2: 20, 3: 30, 4: 40, 5: 50, 6: 60}\n"
     ]
    },
    {
     "name": "stdout",
     "output_type": "stream",
     "text": [
      "Keys of Dictonary are : [1, 2, 3, 4, 5, 6]\n",
      "Values of Dictonary are : [10, 20, 30, 40, 50, 60]\n",
      "Items of Dictonary are : [(1, 10), (2, 20), (3, 30), (4, 40), (5, 50), (6, 60)]\n"
     ]
    }
   ],
   "source": [
    "# Creating a function\n",
    "def get_dict_ele(dict):\n",
    "    # Getting all the keys\n",
    "    keys = [key for key in dict.keys()]\n",
    "    # Getting all the values\n",
    "    values = [value for value in dict.values()]\n",
    "    # Getting all the items\n",
    "    items = [item for item in dict.items()]\n",
    "    # Returning the result\n",
    "    return print(f'Keys of Dictonary are : {keys}\\nValues of Dictonary are : {values}\\nItems of Dictonary are : {items}')\n",
    "\n",
    "# Taking input from user and calling function\n",
    "get_dict_ele(eval(input(\"Enter a dictionary :\")))"
   ]
  },
  {
   "cell_type": "markdown",
   "id": "a2c4eab6-3edb-4f01-850f-0a7580eb900a",
   "metadata": {},
   "source": [
    "### 4.Write a Python program to get the key, value and item in a dictionary. \n",
    "- Input: input_dict = {1: 10, 2: 20, 3:None, 4: 40, 5: None, 6: 60}"
   ]
  },
  {
   "cell_type": "code",
   "execution_count": 97,
   "id": "6ec07f18-9ae0-4aad-9732-169e65254c7c",
   "metadata": {},
   "outputs": [
    {
     "name": "stdin",
     "output_type": "stream",
     "text": [
      "Enter a dictionary : {1: 10, 2: 20, 3:None, 4: 40, 5: None, 6: 60}\n"
     ]
    },
    {
     "name": "stdout",
     "output_type": "stream",
     "text": [
      "Keys of Dictonary are : [1, 2, 3, 4, 5, 6]\n",
      "Values of Dictonary are : [10, 20, None, 40, None, 60]\n",
      "Items of Dictonary are : [(1, 10), (2, 20), (3, None), (4, 40), (5, None), (6, 60)]\n"
     ]
    }
   ],
   "source": [
    "# Creating a function\n",
    "def get_dict_ele(dict):\n",
    "    # Getting all the keys\n",
    "    keys = [key for key in dict.keys()]\n",
    "    # Getting all the values\n",
    "    values = [value for value in dict.values()]\n",
    "    # Getting all the items\n",
    "    items = [item for item in dict.items()]\n",
    "    # Returning the result\n",
    "    return print(f'Keys of Dictonary are : {keys}\\nValues of Dictonary are : {values}\\nItems of Dictonary are : {items}')\n",
    "\n",
    "# Taking input from user and calling function\n",
    "get_dict_ele(eval(input(\"Enter a dictionary :\")))"
   ]
  },
  {
   "cell_type": "code",
   "execution_count": null,
   "id": "01aaa419-d8f5-4c9a-90fa-7350ce0f6799",
   "metadata": {},
   "outputs": [],
   "source": []
  }
 ],
 "metadata": {
  "kernelspec": {
   "display_name": "Python 3 (ipykernel)",
   "language": "python",
   "name": "python3"
  },
  "language_info": {
   "codemirror_mode": {
    "name": "ipython",
    "version": 3
   },
   "file_extension": ".py",
   "mimetype": "text/x-python",
   "name": "python",
   "nbconvert_exporter": "python",
   "pygments_lexer": "ipython3",
   "version": "3.12.4"
  }
 },
 "nbformat": 4,
 "nbformat_minor": 5
}
