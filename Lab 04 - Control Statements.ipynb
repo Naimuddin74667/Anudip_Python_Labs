{
 "cells": [
  {
   "cell_type": "markdown",
   "id": "04cd05da-369f-4150-8251-8701c80eaae7",
   "metadata": {},
   "source": [
    "# Lab 4 - Control Statements"
   ]
  },
  {
   "cell_type": "markdown",
   "id": "1525a5ca-58b7-4926-be8f-afc8c93034b4",
   "metadata": {},
   "source": [
    "### 1. Python program to check leap year."
   ]
  },
  {
   "cell_type": "code",
   "execution_count": 3,
   "id": "ce50ce27-e2bf-490f-a223-e0f0bcc4829f",
   "metadata": {},
   "outputs": [
    {
     "name": "stdin",
     "output_type": "stream",
     "text": [
      "Enter a year :  2025\n"
     ]
    },
    {
     "name": "stdout",
     "output_type": "stream",
     "text": [
      "not a leap year.\n"
     ]
    }
   ],
   "source": [
    "# Taking input from user\n",
    "year = int(input('Enter a year : '))\n",
    "\n",
    "## Logic for leap year\n",
    "# Checking if year is divisible by 400\n",
    "if year%400==0:\n",
    "    print(f'leap year.')\n",
    "# Checking if year is divisible by 100, but not by 400\n",
    "elif year%100==0:\n",
    "    print(f'not a leap year.')\n",
    "# Checking if year is divisible by 4, but not by 100\n",
    "elif year%4==0:\n",
    "    print(f'leap year.')\n",
    "# If none of the condition meet, Its not a leap year\n",
    "else:\n",
    "    print(f'not a leap year.')"
   ]
  },
  {
   "cell_type": "markdown",
   "id": "ea226958-63f0-4dbc-af6c-2e0438d57edd",
   "metadata": {},
   "source": [
    "### 2. Python Program to Find the Largest Among Three Numbers."
   ]
  },
  {
   "cell_type": "code",
   "execution_count": 5,
   "id": "0375ed78-6299-4db4-91c9-86d905cf9f6d",
   "metadata": {},
   "outputs": [
    {
     "name": "stdin",
     "output_type": "stream",
     "text": [
      "Enter the 1st Number :  34\n",
      "Enter the 2nd Number :  56\n",
      "Enter the 3rd Number :  87\n"
     ]
    },
    {
     "name": "stdout",
     "output_type": "stream",
     "text": [
      "Largest number among 34, 56 & 87 is : 87\n"
     ]
    }
   ],
   "source": [
    "# Taking input from user\n",
    "num1 = int(input('Enter the 1st Number : '))\n",
    "num2 = int(input('Enter the 2nd Number : '))\n",
    "num3 = int(input('Enter the 3rd Number : '))\n",
    "\n",
    "## logic for Largesr number\n",
    "# Checking whether num1 is largest\n",
    "if num1>num2 and num1>num3:\n",
    "    print(f'Largest number among {num1}, {num2} & {num3} is : {num1}')\n",
    "# Checking whether num2 is largest, as num1 is not largest\n",
    "elif num2>num3:\n",
    "    print(f'Largest number among {num1}, {num2} & {num3} is : {num2}')\n",
    "# As num1 and num2 both are not largest. So, num3 is largest\n",
    "else:\n",
    "    print(f'Largest number among {num1}, {num2} & {num3} is : {num3}')"
   ]
  },
  {
   "cell_type": "markdown",
   "id": "14662bfc-53fb-4745-98b7-65b2aac3740e",
   "metadata": {},
   "source": [
    "### 3. Python Program to Check if a Number is Positive, Negative or 0."
   ]
  },
  {
   "cell_type": "code",
   "execution_count": 7,
   "id": "4b8213aa-f5bc-4dcb-a19f-0874edfdded9",
   "metadata": {},
   "outputs": [
    {
     "name": "stdin",
     "output_type": "stream",
     "text": [
      "Enter a number : -98\n"
     ]
    },
    {
     "name": "stdout",
     "output_type": "stream",
     "text": [
      "-98 is Negative Number.\n"
     ]
    }
   ],
   "source": [
    "# Taking input from user\n",
    "num = int(input('Enter a number :'))\n",
    "\n",
    "## Logic for determining number\n",
    "# Number greater than 0 is Positive\n",
    "if num>0:\n",
    "    print(f'{num} is Positive Number.')\n",
    "# Number less than 0 is Negative\n",
    "elif num<0:\n",
    "    print(f'{num} is Negative Number.')\n",
    "# If number is neather positive nor negative. It will be zero\n",
    "else:\n",
    "    print(f'The number is Zero (0).')"
   ]
  },
  {
   "cell_type": "markdown",
   "id": "be0d91eb-a2da-4294-b2b4-e1345e371a89",
   "metadata": {},
   "source": [
    "### 4. A toy vendor supplies three types of toys: Battery Based Toys, Key-based Toys, and Electrical Charging Based Toys. The vendor gives a discount of 10% on orders for battery-based toys if the order is for more than Rs. 1000. On orders of more than Rs. 100 for key-based toys, a discount of 5% is given, and a discount of 10% is given on orders for electrical charging based toys of value more than Rs. 500. Assume that the numeric codes 1,2 and 3 are used for battery based toys, key-based toys, and electrical charging based toys respectively. Write a program that reads the product code and the order amount and prints out the net amount that the customer is required to pay after the discount. "
   ]
  },
  {
   "cell_type": "code",
   "execution_count": 9,
   "id": "36b01e57-4129-4b29-ad0d-defcba883df9",
   "metadata": {},
   "outputs": [
    {
     "name": "stdout",
     "output_type": "stream",
     "text": [
      "Product Codes : 1 (Battery), 2 (Key) & 3 (Electrical Charging)\n"
     ]
    },
    {
     "name": "stdin",
     "output_type": "stream",
     "text": [
      "Please enter the product code (1, 2 or 3): 2\n",
      "Enter the Total Amount : 400\n"
     ]
    },
    {
     "name": "stdout",
     "output_type": "stream",
     "text": [
      "Congratulations! You got 5% discount, You need to pay Rs.380.0.\n"
     ]
    }
   ],
   "source": [
    "# Printing instructions for User Input\n",
    "print('Product Codes : 1 (Battery), 2 (Key) & 3 (Electrical Charging)')\n",
    "# Taking Product Code as input by user\n",
    "product_code = input('Please enter the product code (1, 2 or 3):')\n",
    "# Taking Purchase amount as input by user\n",
    "purchase_amount = int(input('Enter the Total Amount :'))\n",
    "\n",
    "## Logic for Calculations\n",
    "# For Battery based product\n",
    "if product_code=='1':\n",
    "    if purchase_amount>1000:\n",
    "        discount_amount = purchase_amount*0.10\n",
    "        payable_amount = purchase_amount-discount_amount\n",
    "        print(f'Congratulations! You got 10% discount, You need to pay Rs.{payable_amount}.')\n",
    "    else:\n",
    "        print(f'You need to pay Rs.{purchase_amount}')\n",
    "# For Key based product, if not Battery\n",
    "elif product_code=='2':\n",
    "    if purchase_amount>100:\n",
    "        discount_amount = purchase_amount*0.05\n",
    "        payable_amount = purchase_amount-discount_amount\n",
    "        print(f'Congratulations! You got 5% discount, You need to pay Rs.{payable_amount}.')\n",
    "    else:\n",
    "        print(f'You need to pay Rs.{purchase_amount}')\n",
    "# For Charging based product, if not Battery nor Key based.\n",
    "elif product_code=='3':\n",
    "    if purchase_amount>500:\n",
    "        discount_amount = purchase_amount*0.10\n",
    "        payable_amount = purchase_amount-discount_amount\n",
    "        print(f'Congratulations! You got 10% discount, You need to pay Rs.{payable_amount}.')\n",
    "    else:\n",
    "        print(f'You need to pay Rs.{purchase_amount}')\n",
    "# If product code is incorrect.\n",
    "else:\n",
    "    print(f'Error: Please select the proper product code !')"
   ]
  },
  {
   "cell_type": "markdown",
   "id": "fac9d05f-37af-4282-994c-2882a17d3711",
   "metadata": {},
   "source": [
    "### 5. A transport company charges the fare according to following table:\n",
    "Distance   Charges \n",
    "- 1-50 : 8 Rs./Km \n",
    "- 51-100 : 10 Rs./Km \n",
    "- 100 : 12 Rs/Km\n",
    "\n",
    "Write a python program to calculate the transport distance entered by user."
   ]
  },
  {
   "cell_type": "code",
   "execution_count": 11,
   "id": "508ddf49-33b5-41f3-bb38-c2ef57704a88",
   "metadata": {},
   "outputs": [
    {
     "name": "stdin",
     "output_type": "stream",
     "text": [
      "Enter the distance to get Fair : 78\n"
     ]
    },
    {
     "name": "stdout",
     "output_type": "stream",
     "text": [
      "Fair for distance 78.0 Km will be Rs.780.0.\n"
     ]
    }
   ],
   "source": [
    "# Taking distance as an input from user\n",
    "distance = float(input('Enter the distance to get Fair :'))\n",
    "\n",
    "## Logic for Fair Calculations\n",
    "# If distance is more than 0 then only it will go with the calculation.\n",
    "if distance>0:\n",
    "    # Calculation if distance is greater than 100\n",
    "    if distance>100:\n",
    "        fair = distance*12\n",
    "        print(f'Fair for distance {distance} Km will be Rs.{fair}.')\n",
    "    # Calculation if distance is between 51 to 100\n",
    "    elif distance>50:\n",
    "        fair = distance*10\n",
    "        print(f'Fair for distance {distance} Km will be Rs.{fair}.')\n",
    "    # Calculation if distance is less than 50\n",
    "    else:\n",
    "        fair = distance*8\n",
    "        print(f'Fair for distance {distance} Km will be Rs.{fair}.')\n",
    "# If distance is Zero or less than Zero.\n",
    "else:\n",
    "    print('Error : Please make sure distance is more than Zero(0).')"
   ]
  },
  {
   "cell_type": "code",
   "execution_count": null,
   "id": "ad86c9ed-de2a-4906-b85e-ae2e1f721515",
   "metadata": {},
   "outputs": [],
   "source": []
  },
  {
   "cell_type": "code",
   "execution_count": null,
   "id": "bea13b05-aaed-4a44-9ac4-e1497af250ce",
   "metadata": {},
   "outputs": [],
   "source": []
  }
 ],
 "metadata": {
  "kernelspec": {
   "display_name": "Python 3 (ipykernel)",
   "language": "python",
   "name": "python3"
  },
  "language_info": {
   "codemirror_mode": {
    "name": "ipython",
    "version": 3
   },
   "file_extension": ".py",
   "mimetype": "text/x-python",
   "name": "python",
   "nbconvert_exporter": "python",
   "pygments_lexer": "ipython3",
   "version": "3.12.4"
  }
 },
 "nbformat": 4,
 "nbformat_minor": 5
}
