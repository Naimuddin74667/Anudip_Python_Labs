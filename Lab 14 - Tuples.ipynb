{
 "cells": [
  {
   "cell_type": "markdown",
   "id": "55c6f9c1-0540-4663-93c0-43a7246cbadc",
   "metadata": {},
   "source": [
    "# Lab 14 - Tuples"
   ]
  },
  {
   "cell_type": "markdown",
   "id": "7034ca0a-b4dd-4341-8364-e5ae0bf4f46a",
   "metadata": {},
   "source": [
    "### 1. Write a Python program to find the number of times 4 appears in the tuple. \n",
    "- Input: tuplex = (2, 4, 5, 6, 2, 3, 4, 4, 7 ) "
   ]
  },
  {
   "cell_type": "code",
   "execution_count": 59,
   "id": "dc1bcb09-4f6f-426b-bc6b-56bd4d981020",
   "metadata": {},
   "outputs": [
    {
     "name": "stdin",
     "output_type": "stream",
     "text": [
      "Enter a tuple : (2, 4, 5, 6, 2, 3, 4, 4, 7 )\n",
      "Enter the number you want to search for : 3\n"
     ]
    },
    {
     "name": "stdout",
     "output_type": "stream",
     "text": [
      "Given tuple is (2, 4, 5, 6, 2, 3, 4, 4, 7)\n",
      "3 appears 1 times.\n"
     ]
    }
   ],
   "source": [
    "# Creating a function\n",
    "def count_tup(tup,ele):\n",
    "    # Printing the tuple\n",
    "    print(f'Given tuple is {tup}')\n",
    "    # Initializing count variable\n",
    "    count = 0\n",
    "    # Checking if element is present in the tuple \n",
    "    if ele in tup:\n",
    "        # Iterating through tuple\n",
    "        for t in tup:\n",
    "            # If find the element then increase the count\n",
    "            if t==ele:\n",
    "                count += 1\n",
    "        # Returning the element and count\n",
    "        return print(f'{ele} appears {count} times.')\n",
    "    # If element is not present in tuple.\n",
    "    else:\n",
    "        return print(f'{ele} is not present.')\n",
    "\n",
    "# Taking input from user and calling function\n",
    "count_tup(eval(input('Enter a tuple :')),int(input('Enter the number you want to search for :')))"
   ]
  },
  {
   "cell_type": "markdown",
   "id": "1cff803f-a7df-4ae9-8d90-eb13dcf7f762",
   "metadata": {},
   "source": [
    "### 2. Write a Python program to convert a list to a tuple. \n",
    "- Input: listx = [5, 10, 7, 4, 15, 3]"
   ]
  },
  {
   "cell_type": "code",
   "execution_count": 51,
   "id": "ce6d9189-bcfb-49bb-b306-2a12bbb0a87c",
   "metadata": {},
   "outputs": [
    {
     "name": "stdin",
     "output_type": "stream",
     "text": [
      "Enter a list to make it tuple : [1,2,3,4]\n"
     ]
    },
    {
     "name": "stdout",
     "output_type": "stream",
     "text": [
      "The tuple of list is (1, 2, 3, 4)\n"
     ]
    }
   ],
   "source": [
    "# Creating function to convert list into tuple\n",
    "def list_to_tuple(lst):\n",
    "    # Converting list into tuple and returning\n",
    "    return print(f'The tuple of list is : {tuple(lst)}')\n",
    "    \n",
    "# Taking input from user and calling function\n",
    "list_to_tuple(eval(input('Enter a list to make it tuple :')))"
   ]
  },
  {
   "cell_type": "markdown",
   "id": "adcffcd9-785b-43e9-83ab-0a972b97c78e",
   "metadata": {},
   "source": [
    "### 3. Write a Python program to calculate the sum of the numbers in a given tuple. \n",
    "- Input: tuples_list = [(1, 2), (3, 4), (5, 6)]"
   ]
  },
  {
   "cell_type": "code",
   "execution_count": 9,
   "id": "651b8130-e735-4a9c-962b-737a18b21a72",
   "metadata": {},
   "outputs": [
    {
     "name": "stdin",
     "output_type": "stream",
     "text": [
      "Enter a list of tupes for sum : [(1, 2), (3, 4), (5, 6)]\n"
     ]
    },
    {
     "name": "stdout",
     "output_type": "stream",
     "text": [
      "Sum of tuples in the list are : [3, 7, 11]\n"
     ]
    }
   ],
   "source": [
    "# Creating function\n",
    "def tup_sum(lst):\n",
    "    # Initializing empty list\n",
    "    tup_sum = []\n",
    "    # Iterating tuples in the list\n",
    "    for tup in lst:\n",
    "        sum = 0\n",
    "        # Iterating element in the tuples\n",
    "        for ele in tup:\n",
    "            # Adding all the elements\n",
    "            sum += ele\n",
    "        # Adding the sum in the list\n",
    "        tup_sum.append(sum)\n",
    "    # Returning the result\n",
    "    return print(f'Sum of tuples in the list are : {tup_sum}')\n",
    "\n",
    "# Taking input from user and calling function\n",
    "tup_sum(eval(input('Enter a list of tupes for sum :')))"
   ]
  },
  {
   "cell_type": "markdown",
   "id": "4ca1579e-4d23-4ee8-92ea-69c144795118",
   "metadata": {},
   "source": [
    "### 4. Write a python program and iterate the given tuples \n",
    "- Input:\n",
    "  - employee1 = (\"John Doe\", 101, \"Human Resources\", 60000)\n",
    "  - employee2 = (\"Alice Smith\", 102, \"Marketing\", 55000)\n",
    "  - employee3 = (\"Bob Johnson\", 103, \"Engineering\", 75000)"
   ]
  },
  {
   "cell_type": "code",
   "execution_count": 39,
   "id": "061bcc6b-4eb1-49af-aeb5-b905e92afffb",
   "metadata": {},
   "outputs": [
    {
     "name": "stdout",
     "output_type": "stream",
     "text": [
      "Fetching Employee Details from tuples...\n",
      "Employee ID: 101  Employee Name: John Doe \tRole: Human Resources \tSalary: 60000\n",
      "Employee ID: 102  Employee Name: Alice Smith \tRole: Marketing \tSalary: 55000\n",
      "Employee ID: 103  Employee Name: Bob Johnson \tRole: Engineering \tSalary: 75000\n"
     ]
    }
   ],
   "source": [
    "# Inputs\n",
    "employee1 = (\"John Doe\", 101, \"Human Resources\", 60000)\n",
    "employee2 = (\"Alice Smith\", 102, \"Marketing\", 55000)\n",
    "employee3 = (\"Bob Johnson\", 103, \"Engineering\", 75000)\n",
    "\n",
    "# Creating funtion to get employee details\n",
    "def get_details(*employee):\n",
    "    print('Fetching Employee Details from tuples...')\n",
    "    # Iterating through each employee \n",
    "    for emp in employee:\n",
    "        # Printing all the details\n",
    "        print(f'Employee ID: {emp[1]}  Employee Name: {emp[0]} \\tRole: {emp[2]} \\tSalary: {emp[3]}')\n",
    "\n",
    "# Calling function\n",
    "get_details(employee1,employee2,employee3)"
   ]
  },
  {
   "cell_type": "code",
   "execution_count": null,
   "id": "8ca74dae-c4cc-4fcf-8eb3-41313302bb00",
   "metadata": {},
   "outputs": [],
   "source": []
  },
  {
   "cell_type": "code",
   "execution_count": null,
   "id": "189cf2f7-6979-4ce4-892a-c7c2f3cd8644",
   "metadata": {},
   "outputs": [],
   "source": []
  }
 ],
 "metadata": {
  "kernelspec": {
   "display_name": "Python 3 (ipykernel)",
   "language": "python",
   "name": "python3"
  },
  "language_info": {
   "codemirror_mode": {
    "name": "ipython",
    "version": 3
   },
   "file_extension": ".py",
   "mimetype": "text/x-python",
   "name": "python",
   "nbconvert_exporter": "python",
   "pygments_lexer": "ipython3",
   "version": "3.12.4"
  }
 },
 "nbformat": 4,
 "nbformat_minor": 5
}
