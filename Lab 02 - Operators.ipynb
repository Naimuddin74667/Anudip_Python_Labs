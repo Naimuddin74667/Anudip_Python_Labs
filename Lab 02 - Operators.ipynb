{
 "cells": [
  {
   "cell_type": "markdown",
   "id": "cc7e31b3-02ac-43ea-959f-10e8f7f71756",
   "metadata": {},
   "source": [
    "# Lab 2"
   ]
  },
  {
   "cell_type": "markdown",
   "id": "7af27e31-43a0-4d62-90c7-0182455591a1",
   "metadata": {},
   "source": [
    "## 1. Calculate the multiplication and sum of two numbers ."
   ]
  },
  {
   "cell_type": "code",
   "execution_count": 3,
   "id": "f3ffb578-8367-418e-a033-384f90eee154",
   "metadata": {},
   "outputs": [
    {
     "name": "stdout",
     "output_type": "stream",
     "text": [
      "Sum of 56 + 35 : 91\n",
      "Multiplication of 56 + 35 : 1960\n"
     ]
    }
   ],
   "source": [
    "# Declaring variables\n",
    "num1 = 56\n",
    "num2 = 35\n",
    "\n",
    "# Multiplication operation\n",
    "multi = num1*num2\n",
    "\n",
    "# Sum of the Numbers\n",
    "sum = num1+num2\n",
    "\n",
    "# Output\n",
    "print(f'Sum of {num1} + {num2} : {sum}')\n",
    "print(f'Multiplication of {num1} + {num2} : {multi}')\n"
   ]
  },
  {
   "cell_type": "markdown",
   "id": "dd4ade9f-e4e0-4dbe-85cf-fbbc372474e7",
   "metadata": {},
   "source": [
    "## 2. Declare two variables and print that which variable is largest using ternary operators ."
   ]
  },
  {
   "cell_type": "code",
   "execution_count": 5,
   "id": "2f79bff1-0d14-4fa4-b0b3-bb5a9c558cbb",
   "metadata": {},
   "outputs": [
    {
     "name": "stdout",
     "output_type": "stream",
     "text": [
      "Largest variable is 56\n",
      "Largest variable is Python Programming\n"
     ]
    }
   ],
   "source": [
    "## For numerical variable\n",
    "# Declaring variables\n",
    "num1 = 56\n",
    "num2 = 35\n",
    "\n",
    "# Finding Largest Variable\n",
    "if num1>num2:\n",
    "    print(f'Largest variable is {num1}')\n",
    "else:\n",
    "    print(f'Largest variable is {num2}')\n",
    "    \n",
    " # --------------------------------------------------\n",
    "## For string variable\n",
    "# Declaring variables\n",
    "str1 = 'Hello World !'\n",
    "str2 = 'Python Programming'\n",
    "\n",
    "# Finding Largest Variable\n",
    "if len(str1)>len(str2):\n",
    "    print(f'Largest variable is {str1}')\n",
    "else:\n",
    "    print(f'Largest variable is {str2}')"
   ]
  },
  {
   "cell_type": "markdown",
   "id": "a0781333-e18d-42f9-aff6-a56f20b3c86f",
   "metadata": {},
   "source": [
    "## 3. Python program to convert the temperature in degree centigrade to Fahrenheit."
   ]
  },
  {
   "cell_type": "code",
   "execution_count": 7,
   "id": "72563dbf-1bc2-441a-a7c6-7e761c93e550",
   "metadata": {},
   "outputs": [
    {
     "name": "stdout",
     "output_type": "stream",
     "text": [
      "32 Degree Celcius will be 89.6 Degree Fahrenheit.\n"
     ]
    }
   ],
   "source": [
    "# Delating variable in Degree Celcius\n",
    "temp_dc = 32\n",
    "\n",
    "# Formula to convert Degree Celcius to Degree Fahrenheit.\n",
    "temp_df = temp_dc*(9/5)+32\n",
    "\n",
    "# Output\n",
    "print(f'{temp_dc} Degree Celcius will be {temp_df} Degree Fahrenheit.')"
   ]
  },
  {
   "cell_type": "markdown",
   "id": "b9c080a6-9d5d-4c6a-8c53-b639783aaecc",
   "metadata": {},
   "source": [
    "## 4. Python program to find the area of a triangle whose sides are given."
   ]
  },
  {
   "cell_type": "code",
   "execution_count": 9,
   "id": "3eb6f2d3-265d-4f7f-9b5b-109b9901fc57",
   "metadata": {},
   "outputs": [
    {
     "name": "stdout",
     "output_type": "stream",
     "text": [
      "Area of Triangle with sides 10, 7 & 5 is : 16.24807680927192.\n"
     ]
    }
   ],
   "source": [
    "# Importing Math Library\n",
    "import math\n",
    "\n",
    "# Declaring sides of triangle\n",
    "side1 = 10\n",
    "side2 = 7\n",
    "side3 = 5\n",
    "\n",
    "# Formula\n",
    "s = (side1+side2+side3)/2\n",
    "Area = math.sqrt(s*(s-side1)*(s-side2)*(s-side3))\n",
    "\n",
    "# Output\n",
    "print(f'Area of Triangle with sides {side1}, {side2} & {side3} is : {Area}.')"
   ]
  },
  {
   "cell_type": "code",
   "execution_count": null,
   "id": "6386c723-a964-410f-a23a-78187096bb96",
   "metadata": {},
   "outputs": [],
   "source": []
  }
 ],
 "metadata": {
  "kernelspec": {
   "display_name": "Python 3 (ipykernel)",
   "language": "python",
   "name": "python3"
  },
  "language_info": {
   "codemirror_mode": {
    "name": "ipython",
    "version": 3
   },
   "file_extension": ".py",
   "mimetype": "text/x-python",
   "name": "python",
   "nbconvert_exporter": "python",
   "pygments_lexer": "ipython3",
   "version": "3.12.4"
  }
 },
 "nbformat": 4,
 "nbformat_minor": 5
}
