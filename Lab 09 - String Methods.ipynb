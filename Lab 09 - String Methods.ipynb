{
 "cells": [
  {
   "cell_type": "markdown",
   "id": "e02baf32-1f8c-4ea2-a5da-3b8424be7815",
   "metadata": {},
   "source": [
    "# Lab 9 - String Methods"
   ]
  },
  {
   "cell_type": "markdown",
   "id": "9b7192f1-c882-4846-8841-c942531fcfc3",
   "metadata": {},
   "source": [
    "### 1. Write a Python program to Count all letters, digits, and special symbols from the given string \n",
    "- Input = “P@#yn26at^&i5ve” \n",
    "- Output: Chars = 8 Digits = 2 Symbol = 3 "
   ]
  },
  {
   "cell_type": "code",
   "execution_count": 11,
   "id": "6bb7e434-1743-45f0-92bd-72350a6a03b9",
   "metadata": {},
   "outputs": [
    {
     "name": "stdin",
     "output_type": "stream",
     "text": [
      "Enter a string to count : P@#yn26at^&i5ve\n"
     ]
    },
    {
     "name": "stdout",
     "output_type": "stream",
     "text": [
      "Chars = 8, Digits = 3, Symbols = 4\n"
     ]
    }
   ],
   "source": [
    "# Creating function to count characters\n",
    "def count_letter(string):\n",
    "    # Initializing dictonary for default count as Zero.\n",
    "    l_count = {'Chars':0, 'Digits':0, 'Symbol':0}\n",
    "\n",
    "    # Iterating through each character\n",
    "    for letter in string:\n",
    "        # Checking for alphabatical characters\n",
    "        if letter.isalpha():\n",
    "            l_count['Chars'] += 1\n",
    "        # Checking for digit characters\n",
    "        elif letter.isdigit():\n",
    "            l_count['Digits'] += 1\n",
    "        # Checking for Special characters\n",
    "        else:\n",
    "            l_count['Symbol'] += 1\n",
    "    # Returning the result\n",
    "    return print(f'Chars = {l_count['Chars']}, Digits = {l_count['Digits']}, Symbols = {l_count['Symbol']}')\n",
    "\n",
    "# Taking input from user and calling functions\n",
    "count_letter(input('Enter a string to count :'))"
   ]
  },
  {
   "cell_type": "markdown",
   "id": "95ba01dc-03c4-4a87-a848-6bc580552d91",
   "metadata": {},
   "source": [
    "### 2. Write a Python program to remove duplicate characters of a given string. \n",
    "- Input = “String and String Function” \n",
    "- Output: String and Function "
   ]
  },
  {
   "cell_type": "code",
   "execution_count": 13,
   "id": "697b6e9c-510f-4a0e-896c-d684be75a7e2",
   "metadata": {},
   "outputs": [
    {
     "name": "stdin",
     "output_type": "stream",
     "text": [
      "Enter a Sentence to remove duplicates : String and String Function\n"
     ]
    },
    {
     "data": {
      "text/plain": [
       "'String and Function'"
      ]
     },
     "execution_count": 13,
     "metadata": {},
     "output_type": "execute_result"
    }
   ],
   "source": [
    "# Creating a function to remove duplicate characters\n",
    "def remove_duplicate(string):\n",
    "    # Spliting the string into words\n",
    "    splited_string = string.split()\n",
    "    # Initializing new string list\n",
    "    new_string = []\n",
    "\n",
    "    # Iterating through each words\n",
    "    for word in splited_string:\n",
    "        # Checking if word is not in string list\n",
    "        if word not in new_string:\n",
    "            # Appending the word\n",
    "            new_string.append(word)\n",
    "    # Returning a single string by joining all the words\n",
    "    return ' '.join(new_string)\n",
    "\n",
    "# Taking input from user and calling function\n",
    "remove_duplicate(input('Enter a Sentence to remove duplicates :'))"
   ]
  },
  {
   "cell_type": "markdown",
   "id": "9a91056f-d476-4f12-a651-fa542d7b39d6",
   "metadata": {},
   "source": [
    "### 3. Write a Python program to count Uppercase, Lowercase, special character and numeric values in a given string \n",
    "- Input = “Hell0 W0rld ! 123 * # welcome to pYtHoN” \n",
    "- Output: UpperCase : 5 \n",
    "  - LowerCase : 18 \n",
    "  - NumberCase : 5 \n",
    "  - SpecialCase : 11 "
   ]
  },
  {
   "cell_type": "code",
   "execution_count": 23,
   "id": "79319e57-e4d6-4dda-94e1-0857a54322d0",
   "metadata": {},
   "outputs": [
    {
     "name": "stdin",
     "output_type": "stream",
     "text": [
      "Enter a string : Hell0 W0rld ! 123 * # welcome to pYtHoN\n"
     ]
    },
    {
     "name": "stdout",
     "output_type": "stream",
     "text": [
      "Counts of characters are -\n",
      "UpperCase : 5 \n",
      "LowerCase : 18 \n",
      "NumberCase : 5 \n",
      "SpecialCase : 11\n"
     ]
    }
   ],
   "source": [
    "# Creating function to count Cases and values\n",
    "def count_char(string):\n",
    "    # Initializing a dictonary for default count as Zero\n",
    "    count = {'UpperCase':0, 'LowerCase':0, 'NumberCase':0, 'SpecialCase':0}\n",
    "\n",
    "    # Iterating through each letter in the string\n",
    "    for letter in string:\n",
    "        # Checking for uppercase\n",
    "        if letter.isupper():\n",
    "            count['UpperCase'] += 1\n",
    "        # Checking for lowercase\n",
    "        elif letter.islower():\n",
    "            count['LowerCase'] += 1\n",
    "        # Checking for Numbercase\n",
    "        elif letter.isdigit():\n",
    "            count['NumberCase'] += 1\n",
    "        # If not above the it will be Special case\n",
    "        else:\n",
    "            count['SpecialCase'] += 1\n",
    "    # returnung the result\n",
    "    return print(f'''Counts of characters are -\\nUpperCase : {count['UpperCase']} \\nLowerCase : {count['LowerCase']} \\nNumberCase : {count['NumberCase']} \\nSpecialCase : {count['SpecialCase']}''')\n",
    "\n",
    "# Taking input from user and calling function\n",
    "count_char(input('Enter a string :'))"
   ]
  },
  {
   "cell_type": "markdown",
   "id": "e1739af4-3f07-495b-ab3c-191f8cfb75fc",
   "metadata": {},
   "source": [
    "### 4. Write a Python Count vowels in a string \n",
    "- input= “Welcome to Python Assignment” \n",
    "- Output: Total vowels are: 8"
   ]
  },
  {
   "cell_type": "code",
   "execution_count": 17,
   "id": "ddd7154c-2281-4d39-a742-0e161132ee10",
   "metadata": {},
   "outputs": [
    {
     "name": "stdin",
     "output_type": "stream",
     "text": [
      "Enter a string :  Welcome to Python Assignment\n"
     ]
    },
    {
     "name": "stdout",
     "output_type": "stream",
     "text": [
      "Total vowels count : 8\n",
      "Vowels are : {'a': 1, 'e': 3, 'i': 1, 'o': 3, 'u': 0}\n"
     ]
    }
   ],
   "source": [
    "# Creating funtion to count vowels\n",
    "def count_vowels(string):\n",
    "    # Initializing dictonary to count vowels default as Zero\n",
    "    vowels = {'a':0,'e':0,'i':0,'o':0,'u':0}\n",
    "    # Declaring variable to count vowels\n",
    "    vowels_count = 0\n",
    "\n",
    "    # Iterating through each letter\n",
    "    for letter in string.lower():\n",
    "        # letter is in vowels\n",
    "        if letter in vowels:\n",
    "            # Increasing the vowels count in dictonary\n",
    "            vowels[letter] += 1\n",
    "            # Increasing the total vowels count\n",
    "            vowels_count += 1\n",
    "\n",
    "    # Returning the result\n",
    "    return print(f'Total vowels count : {vowels_count}\\nVowels are : {vowels}')\n",
    "\n",
    "# Taking input from user and calling function\n",
    "count_vowels(input('Enter a string : '))"
   ]
  },
  {
   "cell_type": "code",
   "execution_count": null,
   "id": "6c3c153f-c1db-4276-8bcc-22c69e57138d",
   "metadata": {},
   "outputs": [],
   "source": []
  }
 ],
 "metadata": {
  "kernelspec": {
   "display_name": "Python 3 (ipykernel)",
   "language": "python",
   "name": "python3"
  },
  "language_info": {
   "codemirror_mode": {
    "name": "ipython",
    "version": 3
   },
   "file_extension": ".py",
   "mimetype": "text/x-python",
   "name": "python",
   "nbconvert_exporter": "python",
   "pygments_lexer": "ipython3",
   "version": "3.12.4"
  }
 },
 "nbformat": 4,
 "nbformat_minor": 5
}
